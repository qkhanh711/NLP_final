{
 "cells": [
  {
   "cell_type": "code",
   "execution_count": 60,
   "metadata": {},
   "outputs": [
    {
     "name": "stdout",
     "output_type": "stream",
     "text": [
      "['Quân đội Israel tuyên bố phát hiện đường hầm Hamas từng giam con tin tại thành phố Khan Younis, nơi có phòng giam, tường lát gạch, nhà tắm và bếp', 'Lực lượng Phòng vệ Israel (IDF) hôm nay thông báo phát hiện và phá hủy \"đường hầm chiến lược\" dài hơn 1 km trong cuộc đột kích ở thành phố Khan Younis, nam Gaza', ' Video do IDF công bố cho thấy một \"phòng giam con tin\", với tường lát gạch và các thanh thép từ sàn đến trần nhà', '\"Đường hầm này là nơi giam khoảng 12 con tin vào những thời điểm khác nhau', ' Ba người trong số họ đã được trao trả cho Israel và số còn lại vẫn bị giữ ở Gaza\", tuyên bố của IDF nêu, song không cung cấp thông tin về những con tin từng bị giam tại đây', 'Bên trong đường hầm của Hamas ở thành phố Khan Younis, nam Gaza trong video do quân đội Israel công bố ngày 7/2', ' Video: IDFĐường hầm được xây dựng \"bên dưới trung tâm một khu dân sự\" có nhà tắm, nhà bếp và khu vực nghỉ ngơi cho những người giám sát con tin, đồng thời là một phần của \"mê cung hầm ngầm phức tạp và kết nối với nhau\", theo IDF', '\"Nó cũng từng được sử dụng làm nơi ẩn náu cho các thành viên cấp cao Hamas và kết nối với một đường hầm được phát hiện gần đây, nơi giam những con tin khác', ' Quân đội thu được nhiều vật dụng và vũ khí trong đường hầm này\", IDF cho biết', 'Khoảng 250 con tin đã bị bắt và đưa về Dải Gaza sau khi Hamas đột kích miền nam Israel tháng 10/2023', ' Israel cho biết 132 con tin còn ở Gaza sau thỏa thuận trao đổi, trong đó 31 người có thể đã chết', '\"Bị mắc kẹt trong các đường hầm dưới lòng đất, hàng ngày họ phải đối mặt với bóng tối, đói khát, sợ hãi, cô độc và lạm dụng tình dục', ' Nếu không đưa họ ra khỏi đó ngay lập tức, các con tin có thể sẽ chẳng còn sống sót nữa\", Diễn đàn Gia đình Con tin và Người mất tích ra tuyên bố sau thông báo của IDF', 'Chiến dịch đáp trả của Israel vào Dải Gaza đến nay đã khiến hơn 27', '700 người thiệt mạng và hơn một triệu người phải di dời đến cực nam của dải đất này', ' 227 lính Israel thiệt mạng trong chiến dịch', ' Quân đội Israel tuyên bố các quan chức cấp cao của Hamas đã rút vào hệ thống đường hầm, với các lối vào được xây bên trong và xung quanh cơ sở hạ tầng dân sự', 'Khan Younis, thành phố quê nhà của thủ lĩnh Hamas Yahya Sinwar, đã trở thành tâm điểm các cuộc ném bom dữ dội những tuần gần đây, khi Israel truy lùng các thành viên Hamas được cho là chủ mưu cuộc đột kích vào Israel', '\\n']\n",
      "19\n",
      "['Trong video do quân đội Israel công bố ngày 7/2, tuyên bố các quan chức cấp cao của Hamas đã rút vào hệ thống đường hầm chiến lược dài hơn 1 km trong cuộc đột kích ở thành phố Khan Younis, nam Gaza. Trong đó, các con tin từng bị giam tại thành phố Khan Younis, nam Gaza.']\n"
     ]
    }
   ],
   "source": [
    "path_origin  = \"./vnexpress_data_summarization/original/Cluster_001/original/1.txt\"\n",
    "path_summary = \"./vnexpress_data_summarization/summary/Cluster_001/summary/0.gold.txt\"\n",
    "\n",
    "with open(path_origin, 'r') as f:\n",
    "    news = f.readlines()\n",
    "    news[7][9:]\n",
    "    # print(news[7][9:])\n",
    "    news = news[7][9:].split('.')\n",
    "    print(news)\n",
    "    print(len(news))\n",
    "\n",
    "with open(path_summary, 'r') as f:\n",
    "    summary = f.readlines()\n",
    "    print(summary)"
   ]
  },
  {
   "cell_type": "code",
   "execution_count": 32,
   "metadata": {},
   "outputs": [
    {
     "name": "stdout",
     "output_type": "stream",
     "text": [
      "19\n",
      "58\n",
      "Summary:  trong video do quân đội israel công bố ngày 7/2, tuyên bố các quan chức cấp cao của hamas đã rút vào hệ thống đường hầm chiến lược dài hơn 1 km trong cuộc đột kích ở thành phố khan younis, nam gaza. trong đó, các con tin từng bị giam tại thành phố khan younis, nam gaza.\n",
      "[0, 0, 0, 0, 0, 1, 0, 0, 0, 0, 0, 0, 0, 0, 0, 0, 1, 0, 0]\n",
      "19\n"
     ]
    }
   ],
   "source": [
    "def labels(news, summary):\n",
    "    print(len(news))\n",
    "    labels = []\n",
    "    counter = 0\n",
    "    summary = summary[0].lower()\n",
    "    print(len(summary.split(' ')))\n",
    "    print(\"Summary: \", summary)\n",
    "    for sentence in news:\n",
    "        sentence = sentence.lower()\n",
    "        words = sentence.split(' ')\n",
    "        for word in words:\n",
    "            if word in summary:\n",
    "                counter += 1\n",
    "        if counter > 20:\n",
    "            labels.append(1)\n",
    "        else:\n",
    "            labels.append(0)\n",
    "        counter = 0\n",
    "    return labels\n",
    "\n",
    "\n",
    "labels = labels(news, summary)\n",
    "print(labels)\n",
    "print(len(labels))"
   ]
  },
  {
   "cell_type": "code",
   "execution_count": 77,
   "metadata": {},
   "outputs": [
    {
     "name": "stdout",
     "output_type": "stream",
     "text": [
      "['quân đội israel tuyên bố phát hiện đường hầm hamas từng giam con tin tại thành phố khan younis, nơi có phòng giam, tường lát gạch, nhà tắm và bếp', 'lực lượng phòng vệ israel (idf) hôm nay thông báo phát hiện và phá hủy \"đường hầm chiến lược\" dài hơn 1 km trong cuộc đột kích ở thành phố khan younis, nam gaza', ' video do idf công bố cho thấy một \"phòng giam con tin\", với tường lát gạch và các thanh thép từ sàn đến trần nhà', '\"đường hầm này là nơi giam khoảng 12 con tin vào những thời điểm khác nhau', ' ba người trong số họ đã được trao trả cho israel và số còn lại vẫn bị giữ ở gaza\", tuyên bố của idf nêu, song không cung cấp thông tin về những con tin từng bị giam tại đây', 'bên trong đường hầm của hamas ở thành phố khan younis, nam gaza trong video do quân đội israel công bố ngày 7/2', ' video: idfđường hầm được xây dựng \"bên dưới trung tâm một khu dân sự\" có nhà tắm, nhà bếp và khu vực nghỉ ngơi cho những người giám sát con tin, đồng thời là một phần của \"mê cung hầm ngầm phức tạp và kết nối với nhau\", theo idf', '\"nó cũng từng được sử dụng làm nơi ẩn náu cho các thành viên cấp cao hamas và kết nối với một đường hầm được phát hiện gần đây, nơi giam những con tin khác', ' quân đội thu được nhiều vật dụng và vũ khí trong đường hầm này\", idf cho biết', 'khoảng 250 con tin đã bị bắt và đưa về dải gaza sau khi hamas đột kích miền nam israel tháng 10/2023', ' israel cho biết 132 con tin còn ở gaza sau thỏa thuận trao đổi, trong đó 31 người có thể đã chết', '\"bị mắc kẹt trong các đường hầm dưới lòng đất, hàng ngày họ phải đối mặt với bóng tối, đói khát, sợ hãi, cô độc và lạm dụng tình dục', ' nếu không đưa họ ra khỏi đó ngay lập tức, các con tin có thể sẽ chẳng còn sống sót nữa\", diễn đàn gia đình con tin và người mất tích ra tuyên bố sau thông báo của idf', 'chiến dịch đáp trả của israel vào dải gaza đến nay đã khiến hơn 27', '700 người thiệt mạng và hơn một triệu người phải di dời đến cực nam của dải đất này', ' 227 lính israel thiệt mạng trong chiến dịch', ' quân đội israel tuyên bố các quan chức cấp cao của hamas đã rút vào hệ thống đường hầm, với các lối vào được xây bên trong và xung quanh cơ sở hạ tầng dân sự', 'khan younis, thành phố quê nhà của thủ lĩnh hamas yahya sinwar, đã trở thành tâm điểm các cuộc ném bom dữ dội những tuần gần đây, khi israel truy lùng các thành viên hamas được cho là chủ mưu cuộc đột kích vào israel', '\\n']\n",
      "trong video do quân đội israel công bố ngày 7/2, tuyên bố các quan chức cấp cao của hamas đã rút vào hệ thống đường hầm chiến lược dài hơn 1 km trong cuộc đột kích ở thành phố khan younis, nam gaza. trong đó, các con tin từng bị giam tại thành phố khan younis, nam gaza.\n",
      "[0, 0, 0, 0, 0, 1, 0, 0, 0, 0, 0, 0, 0, 0, 0, 0, 1, 0, 0]\n"
     ]
    }
   ],
   "source": [
    "class Labeler():\n",
    "    def __init__(self, path_origin, path_summary):\n",
    "        self.path_origin = path_origin\n",
    "        self.path_summary = path_summary\n",
    "        self.labels = []\n",
    "        self.news = []\n",
    "        self.summary = \"\"\n",
    "    \n",
    "    def get_news(self):\n",
    "        with open(self.path_origin, 'r') as f:\n",
    "            self.news = f.readlines()\n",
    "            self.news = self.news[7][9:].split('.')\n",
    "            self.news = [sentence.lower() for sentence in self.news]\n",
    "        return self.news\n",
    "    \n",
    "    def get_summary(self):\n",
    "        with open(self.path_summary, 'r') as f:\n",
    "            self.summary = f.readlines()\n",
    "        return self.summary[0].lower()\n",
    "    \n",
    "    def Labeling(self):\n",
    "        counter = 0\n",
    "        for sentence in self.news:\n",
    "            words = sentence.split(' ')\n",
    "            for word in words:\n",
    "                if word in self.summary:\n",
    "                    counter += 1\n",
    "            if counter > 20:\n",
    "                self.labels.append(1)\n",
    "            else:\n",
    "                self.labels.append(0)\n",
    "            counter = 0\n",
    "        return self.labels\n",
    "     \n",
    "    def get_all(self):\n",
    "        self.news = self.get_news()\n",
    "        self.summary = self.get_summary()\n",
    "        self.labels =  self.Labeling()\n",
    "        return {\"news\": self.news, \"summary\": self.summary, \"labels\": self.labels}\n",
    "\n",
    "\n",
    "path_origin  = \"./vnexpress_data_summarization/original/Cluster_001/original/1.txt\"\n",
    "path_summary = \"./vnexpress_data_summarization/summary/Cluster_001/summary/0.gold.txt\"   \n",
    "labeler = Labeler(path_origin, path_summary)\n",
    "results = labeler.get_all()\n",
    "print(results['news'])\n",
    "print(results['summary'])\n",
    "print(results['labels'])"
   ]
  },
  {
   "cell_type": "code",
   "execution_count": null,
   "metadata": {},
   "outputs": [],
   "source": []
  }
 ],
 "metadata": {
  "kernelspec": {
   "display_name": "GDSC",
   "language": "python",
   "name": "python3"
  },
  "language_info": {
   "codemirror_mode": {
    "name": "ipython",
    "version": 3
   },
   "file_extension": ".py",
   "mimetype": "text/x-python",
   "name": "python",
   "nbconvert_exporter": "python",
   "pygments_lexer": "ipython3",
   "version": "3.10.13"
  }
 },
 "nbformat": 4,
 "nbformat_minor": 2
}
