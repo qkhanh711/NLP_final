{
 "cells": [
  {
   "cell_type": "code",
   "execution_count": 1,
   "metadata": {},
   "outputs": [
    {
     "name": "stderr",
     "output_type": "stream",
     "text": [
      "/home/lap05/anaconda3/envs/GDSC/lib/python3.10/site-packages/tqdm/auto.py:21: TqdmWarning: IProgress not found. Please update jupyter and ipywidgets. See https://ipywidgets.readthedocs.io/en/stable/user_install.html\n",
      "  from .autonotebook import tqdm as notebook_tqdm\n",
      "config.json: 100%|██████████| 784/784 [00:00<00:00, 5.31MB/s]\n",
      "pytorch_model.bin: 100%|██████████| 1.20G/1.20G [01:50<00:00, 10.9MB/s]\n"
     ]
    },
    {
     "data": {
      "text/plain": [
       "'Ông Nguyễn Thế Hiệp, Giám đốc VKSND quận Ba Đình cho biết, ông Nguyễn Thế Hiệp có sai phạm trong vụ cháy gần Bệnh viện Nhi trung ương khiến 2 người chết, thiệt hại 1,9 tỷ đồng song bị cáo khẳng định vô tội. Tuy nhiên, bị cáo chưa bồi thường.'"
      ]
     },
     "execution_count": 1,
     "metadata": {},
     "output_type": "execute_result"
    }
   ],
   "source": [
    "from transformers import AutoTokenizer, AutoModelForSeq2SeqLM\n",
    "\n",
    "# Example test data on VNExpress: https://vnexpress.net/ong-hiep-khung-khong-nhan-toi-trong-vu-chay-gan-benh-vien-nhi-4541483.html\n",
    "tokenizer = AutoTokenizer.from_pretrained(\"minhtoan/t5-small-vietnamese-news\")  \n",
    "model = AutoModelForSeq2SeqLM.from_pretrained(\"minhtoan/t5-small-vietnamese-news\")\n",
    "model.cuda()\n",
    "src = 'VKS cáo buộc ông Nguyễn Thế Hiệp có sai phạm trong vụ cháy gần Bệnh viện Nhi trung ương khiến 4 người chết, thiệt hại 1,9 tỷ đồng song bị cáo khẳng định vô tội. Mức án đề nghị 9-10 năm tù với bị cáo 73 tuổi được đại diện VKSND quận Ba Đình đưa ra chiều 28/11, quy buộc phạm tội Vi phạm quy định về phòng cháy chữa cháy, theo Điều 313 Bộ luật Hình sự. VKS nhận định ông Hiệp có lỗi trong việc vận hành nhà trọ không phép, không đủ điều kiện an toàn phòng cháy chữa cháy, gây thiệt hại về tài sản và khiến hai người chết. Tuy nhiên, bị cáo chưa bồi thường. Bản luận tội nêu, tại phiên tòa hôm nay ông Hiệp \"chưa tỏ thái độ ăn năn hối hận, có nhân thân đặc biệt xấu\". Từ hàng chục năm trước, ông từng 11 lần bị lập danh chỉ bản về hành vi trộm cắp, năm 1985 lại nhận 18 năm tù về các tội cướp tài sản, hiếp dâm, đưa hối lộ...'\n",
    "tokenized_text = tokenizer.encode(src, return_tensors=\"pt\").cuda()\n",
    "model.eval()\n",
    "summary_ids = model.generate(tokenized_text, max_length=150)\n",
    "output = tokenizer.decode(summary_ids[0], skip_special_tokens=True)\n",
    "output\n"
   ]
  },
  {
   "cell_type": "code",
   "execution_count": 1,
   "metadata": {},
   "outputs": [
    {
     "name": "stderr",
     "output_type": "stream",
     "text": [
      "/home/lap05/anaconda3/envs/GDSC/lib/python3.10/site-packages/tqdm/auto.py:21: TqdmWarning: IProgress not found. Please update jupyter and ipywidgets. See https://ipywidgets.readthedocs.io/en/stable/user_install.html\n",
      "  from .autonotebook import tqdm as notebook_tqdm\n",
      "2024-02-08 00:26:37.068337: E external/local_xla/xla/stream_executor/cuda/cuda_dnn.cc:9261] Unable to register cuDNN factory: Attempting to register factory for plugin cuDNN when one has already been registered\n",
      "2024-02-08 00:26:37.068390: E external/local_xla/xla/stream_executor/cuda/cuda_fft.cc:607] Unable to register cuFFT factory: Attempting to register factory for plugin cuFFT when one has already been registered\n",
      "2024-02-08 00:26:37.131606: E external/local_xla/xla/stream_executor/cuda/cuda_blas.cc:1515] Unable to register cuBLAS factory: Attempting to register factory for plugin cuBLAS when one has already been registered\n",
      "2024-02-08 00:26:37.259531: I tensorflow/core/platform/cpu_feature_guard.cc:182] This TensorFlow binary is optimized to use available CPU instructions in performance-critical operations.\n",
      "To enable the following instructions: AVX2 FMA, in other operations, rebuild TensorFlow with the appropriate compiler flags.\n",
      "2024-02-08 00:26:38.312674: W tensorflow/compiler/tf2tensorrt/utils/py_utils.cc:38] TF-TRT Warning: Could not find TensorRT\n",
      "config.json: 100%|██████████| 1.58k/1.58k [00:00<00:00, 10.2MB/s]\n",
      "model.safetensors: 100%|██████████| 1.63G/1.63G [02:29<00:00, 10.9MB/s]\n",
      "generation_config.json: 100%|██████████| 363/363 [00:00<00:00, 2.52MB/s]\n",
      "vocab.json: 100%|██████████| 899k/899k [00:00<00:00, 942kB/s]\n",
      "merges.txt: 100%|██████████| 456k/456k [00:00<00:00, 638kB/s]\n",
      "tokenizer.json: 100%|██████████| 1.36M/1.36M [00:01<00:00, 1.13MB/s]\n"
     ]
    }
   ],
   "source": [
    "from transformers import pipeline\n",
    "\n",
    "summarizer = pipeline(\"summarization\", model=\"facebook/bart-large-cnn\")\n",
    "\n",
    "article = \"\"\"VKS cáo buộc ông Nguyễn Thế Hiệp có sai phạm trong vụ cháy gần Bệnh viện Nhi trung ương khiến 4 người chết, thiệt hại 1,9 tỷ đồng song bị cáo khẳng định vô tội. Mức án đề nghị 9-10 năm tù với bị cáo 73 tuổi được đại diện VKSND quận Ba Đình đưa ra chiều 28/11, quy buộc phạm tội Vi phạm quy định về phòng cháy chữa cháy, theo Điều 313 Bộ luật Hình sự. VKS nhận định ông Hiệp có lỗi trong việc vận hành nhà trọ không phép, không đủ điều kiện an toàn phòng cháy chữa cháy, gây thiệt hại về tài sản và khiến hai người chết. Tuy nhiên, bị cáo chưa bồi thường. Bản luận tội nêu, tại phiên tòa hôm nay ông Hiệp \"chưa tỏ thái độ ăn năn hối hận, có nhân thân đặc biệt xấu\". Từ hàng chục năm trước, ông từng 11 lần bị lập danh chỉ bản về hành vi trộm cắp, năm 1985 lại nhận 18 năm tù về các tội cướp tài sản, hiếp dâm, đưa hối lộ...\"\"\"\n",
    "summary = summarizer(article, max_length=150, min_length=30, do_sample=False)\n"
   ]
  },
  {
   "cell_type": "code",
   "execution_count": 2,
   "metadata": {},
   "outputs": [
    {
     "name": "stdout",
     "output_type": "stream",
     "text": [
      "VKS cáo buộc ông Nguyễn Thế Hiệp có sai phạm trong vụ cháy gần Bềnh viỉn Nhi trung ương khiỿn 4 người chữa chἿt. VKSND quận Ba Đình đưa ra chiᙁu 28/11, quy bu  phỡm t�’i Vi ph�\n"
     ]
    }
   ],
   "source": [
    "print(summary[0]['summary_text'])"
   ]
  },
  {
   "cell_type": "code",
   "execution_count": 21,
   "metadata": {},
   "outputs": [
    {
     "name": "stderr",
     "output_type": "stream",
     "text": [
      "Some weights of BertForSequenceClassification were not initialized from the model checkpoint at bert-base-uncased and are newly initialized: ['classifier.bias', 'classifier.weight']\n",
      "You should probably TRAIN this model on a down-stream task to be able to use it for predictions and inference.\n"
     ]
    },
    {
     "name": "stdout",
     "output_type": "stream",
     "text": [
      "Quân đội Israel tuyên bố phát hiện đường hầm Hamas từng giam con tin tại thành phố Khan Younis, nơi có phòng giam, tường lát gạch, nhà tắm và bếp.Lực lượng Phòng vệ Israel (IDF) hôm nay thông báo phát hiện và phá hủy \"đường hầm chiến lược\" dài hơn 1 km trong cuộc đột kích ở thành phố Khan Younis, nam Gaza. Video do IDF công bố cho thấy một \"phòng giam con tin\", với tường lát gạch và các thanh thép từ sàn đến trần nhà.\"Đường hầm này là nơi giam khoảng 12 con tin vào những thời điểm khác nhau. Ba người trong số họ đã được trao trả cho Israel và số còn lại vẫn bị giữ ở Gaza\", tuyên bố của IDF nêu, song không cung cấp thông tin về những con tin từng bị giam tại đây.Bên trong đường hầm của Hamas ở thành phố Khan Younis, nam Gaza trong video do quân đội Israel công bố ngày 7/2. Video: IDFĐường hầm được xây dựng \"bên dưới trung tâm một khu dân sự\" có nhà tắm, nhà bếp và khu vực nghỉ ngơi cho những người giám sát con tin, đồng thời là một phần của \"mê cung hầm ngầm phức tạp và kết nối với nhau\", theo IDF.\"Nó cũng từng được sử dụng làm nơi ẩn náu cho các thành viên cấp cao Hamas và kết nối với một đường hầm được phát hiện gần đây, nơi giam những con tin khác. Quân đội thu được nhiều vật dụng và vũ khí trong đường hầm này\", IDF cho biết.Khoảng 250 con tin đã bị bắt và đưa về Dải Gaza sau khi Hamas đột kích miền nam Israel tháng 10/2023. Israel cho biết 132 con tin còn ở Gaza sau thỏa thuận trao đổi, trong đó 31 người có thể đã chết.\"Bị mắc kẹt trong các đường hầm dưới lòng đất, hàng ngày họ phải đối mặt với bóng tối, đói khát, sợ hãi, cô độc và lạm dụng tình dục. Nếu không đưa họ ra khỏi đó ngay lập tức, các con tin có thể sẽ chẳng còn sống sót nữa\", Diễn đàn Gia đình Con tin và Người mất tích ra tuyên bố sau thông báo của IDF.Chiến dịch đáp trả của Israel vào Dải Gaza đến nay đã khiến hơn 27.700 người thiệt mạng và hơn một triệu người phải di dời đến cực nam của dải đất này. 227 lính Israel thiệt mạng trong chiến dịch. Quân đội Israel tuyên bố các quan chức cấp cao của Hamas đã rút vào hệ thống đường hầm, với các lối vào được xây bên trong và xung quanh cơ sở hạ tầng dân sự.Khan Younis, thành phố quê nhà của thủ lĩnh Hamas Yahya Sinwar, đã trở thành tâm điểm các cuộc ném bom dữ dội những tuần gần đây, khi Israel truy lùng các thành viên Hamas được cho là chủ mưu cuộc đột kích vào Israel.\n",
      "\n",
      "['Quân đội Israel tuyên bố phát hiện đường hầm Hamas từng giam con tin tại thành phố Khan Younis, nơi có phòng giam, tường lát gạch, nhà tắm và bếp', 'Lực lượng Phòng vệ Israel (IDF) hôm nay thông báo phát hiện và phá hủy \"đường hầm chiến lược\" dài hơn 1 km trong cuộc đột kích ở thành phố Khan Younis, nam Gaza', ' Video do IDF công bố cho thấy một \"phòng giam con tin\", với tường lát gạch và các thanh thép từ sàn đến trần nhà', '\"Đường hầm này là nơi giam khoảng 12 con tin vào những thời điểm khác nhau', ' Ba người trong số họ đã được trao trả cho Israel và số còn lại vẫn bị giữ ở Gaza\", tuyên bố của IDF nêu, song không cung cấp thông tin về những con tin từng bị giam tại đây', 'Bên trong đường hầm của Hamas ở thành phố Khan Younis, nam Gaza trong video do quân đội Israel công bố ngày 7/2', ' Video: IDFĐường hầm được xây dựng \"bên dưới trung tâm một khu dân sự\" có nhà tắm, nhà bếp và khu vực nghỉ ngơi cho những người giám sát con tin, đồng thời là một phần của \"mê cung hầm ngầm phức tạp và kết nối với nhau\", theo IDF', '\"Nó cũng từng được sử dụng làm nơi ẩn náu cho các thành viên cấp cao Hamas và kết nối với một đường hầm được phát hiện gần đây, nơi giam những con tin khác', ' Quân đội thu được nhiều vật dụng và vũ khí trong đường hầm này\", IDF cho biết', 'Khoảng 250 con tin đã bị bắt và đưa về Dải Gaza sau khi Hamas đột kích miền nam Israel tháng 10/2023', ' Israel cho biết 132 con tin còn ở Gaza sau thỏa thuận trao đổi, trong đó 31 người có thể đã chết', '\"Bị mắc kẹt trong các đường hầm dưới lòng đất, hàng ngày họ phải đối mặt với bóng tối, đói khát, sợ hãi, cô độc và lạm dụng tình dục', ' Nếu không đưa họ ra khỏi đó ngay lập tức, các con tin có thể sẽ chẳng còn sống sót nữa\", Diễn đàn Gia đình Con tin và Người mất tích ra tuyên bố sau thông báo của IDF', 'Chiến dịch đáp trả của Israel vào Dải Gaza đến nay đã khiến hơn 27', '700 người thiệt mạng và hơn một triệu người phải di dời đến cực nam của dải đất này', ' 227 lính Israel thiệt mạng trong chiến dịch', ' Quân đội Israel tuyên bố các quan chức cấp cao của Hamas đã rút vào hệ thống đường hầm, với các lối vào được xây bên trong và xung quanh cơ sở hạ tầng dân sự', 'Khan Younis, thành phố quê nhà của thủ lĩnh Hamas Yahya Sinwar, đã trở thành tâm điểm các cuộc ném bom dữ dội những tuần gần đây, khi Israel truy lùng các thành viên Hamas được cho là chủ mưu cuộc đột kích vào Israel', '\\n']\n",
      "tensor([0])\n",
      "tensor([0])\n",
      "tensor([0])\n",
      "tensor([0])\n",
      "tensor([0])\n",
      "tensor([0])\n",
      "tensor([0])\n",
      "tensor([0])\n",
      "tensor([0])\n",
      "tensor([0])\n",
      "tensor([0])\n",
      "tensor([0])\n",
      "tensor([0])\n",
      "tensor([0])\n",
      "tensor([0])\n",
      "tensor([0])\n",
      "tensor([0])\n",
      "tensor([0])\n",
      "[]\n"
     ]
    }
   ],
   "source": [
    "import torch\n",
    "from transformers import BertTokenizer, BertForSequenceClassification\n",
    "\n",
    "tokenizer = BertTokenizer.from_pretrained('bert-base-uncased')\n",
    "model = BertForSequenceClassification.from_pretrained('bert-base-uncased', num_labels=2)  # 2 labels: important or not important\n",
    "\n",
    "news_article = \"Your news article here.\"\n",
    "with open(\"../vnexpress_data_summarization/original/Cluster_001/original/1.txt\", \"r\") as file:\n",
    "    news_article = file.readlines()\n",
    "print(news_article[7][9:])\n",
    "inputs = news_article[7][9:].split(\".\")\n",
    "print(inputs)\n",
    "remove = ['\\n', '']\n",
    "inputs = [i for i in inputs if i not in remove]\n",
    "\n",
    "# predict which sentence is important for the news article\n",
    "important_sentences = []\n",
    "for i in range(len(inputs)):\n",
    "    important_sentence = inputs[i]\n",
    "    inputs[i] = tokenizer(inputs[i], return_tensors=\"pt\", padding=True, truncation=True)\n",
    "    # print(inputs[i].input_ids)\n",
    "    outputs = model(**inputs[i])\n",
    "    # print(outputs)\n",
    "    # print(outputs.logits)\n",
    "    print(outputs.logits.argmax(-1))\n",
    "    if outputs.logits.argmax(-1) == 1:\n",
    "        important_sentences.append(important_sentence)\n",
    "print(important_sentences)\n"
   ]
  }
 ],
 "metadata": {
  "kernelspec": {
   "display_name": "base",
   "language": "python",
   "name": "python3"
  },
  "language_info": {
   "codemirror_mode": {
    "name": "ipython",
    "version": 3
   },
   "file_extension": ".py",
   "mimetype": "text/x-python",
   "name": "python",
   "nbconvert_exporter": "python",
   "pygments_lexer": "ipython3",
   "version": "3.10.13"
  }
 },
 "nbformat": 4,
 "nbformat_minor": 2
}
