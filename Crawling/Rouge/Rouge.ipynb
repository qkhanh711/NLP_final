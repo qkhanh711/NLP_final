{
 "cells": [
  {
   "cell_type": "code",
   "execution_count": 1,
   "metadata": {},
   "outputs": [
    {
     "name": "stdout",
     "output_type": "stream",
     "text": [
      "\u001b[31mERROR: Could not open requirements file: [Errno 2] No such file or directory: 'rouge/requirements.txt'\u001b[0m\u001b[31m\n",
      "\u001b[0mCollecting rouge-score\n",
      "  Using cached rouge_score-0.1.2-py3-none-any.whl\n",
      "Requirement already satisfied: absl-py in /home/lap05/anaconda3/envs/GDSC/lib/python3.10/site-packages (from rouge-score) (2.0.0)\n",
      "Collecting nltk (from rouge-score)\n",
      "  Downloading nltk-3.8.1-py3-none-any.whl.metadata (2.8 kB)\n",
      "Requirement already satisfied: numpy in /home/lap05/anaconda3/envs/GDSC/lib/python3.10/site-packages (from rouge-score) (1.26.2)\n",
      "Requirement already satisfied: six>=1.14.0 in /home/lap05/anaconda3/envs/GDSC/lib/python3.10/site-packages (from rouge-score) (1.16.0)\n",
      "Collecting click (from nltk->rouge-score)\n",
      "  Downloading click-8.1.7-py3-none-any.whl.metadata (3.0 kB)\n",
      "Requirement already satisfied: joblib in /home/lap05/anaconda3/envs/GDSC/lib/python3.10/site-packages (from nltk->rouge-score) (1.3.2)\n",
      "Requirement already satisfied: regex>=2021.8.3 in /home/lap05/anaconda3/envs/GDSC/lib/python3.10/site-packages (from nltk->rouge-score) (2023.12.25)\n",
      "Requirement already satisfied: tqdm in /home/lap05/anaconda3/envs/GDSC/lib/python3.10/site-packages (from nltk->rouge-score) (4.66.1)\n",
      "Using cached nltk-3.8.1-py3-none-any.whl (1.5 MB)\n",
      "Downloading click-8.1.7-py3-none-any.whl (97 kB)\n",
      "\u001b[2K   \u001b[90m━━━━━━━━━━━━━━━━━━━━━━━━━━━━━━━━━━━━━━━━\u001b[0m \u001b[32m97.9/97.9 kB\u001b[0m \u001b[31m2.4 MB/s\u001b[0m eta \u001b[36m0:00:00\u001b[0ma \u001b[36m0:00:01\u001b[0m\n",
      "\u001b[?25hInstalling collected packages: click, nltk, rouge-score\n",
      "Successfully installed click-8.1.7 nltk-3.8.1 rouge-score-0.1.2\n"
     ]
    }
   ],
   "source": [
    "# !pip install -r rouge/requirements.txt\n",
    "!pip install rouge-score"
   ]
  },
  {
   "cell_type": "code",
   "execution_count": 6,
   "metadata": {},
   "outputs": [],
   "source": [
    "path_summary_human = \"../vnexpress_data_summarization/summary/Cluster_001/0.gold.txt\"\n",
    "path_summary_model = \"../vnexpress_data_summarization/summary/Cluster_001/1.gold.txt\"\n",
    "\n",
    "from rouge_score import rouge_scorer\n",
    "\n",
    "scorer = rouge_scorer.RougeScorer(['rouge1', 'rouge2', 'rougeL', 'rougeLsum'], use_stemmer=True)\n",
    "scores = scorer.score(open(path_summary_human).read(), open(path_summary_model).read())\n"
   ]
  },
  {
   "cell_type": "code",
   "execution_count": 9,
   "metadata": {},
   "outputs": [
    {
     "name": "stdout",
     "output_type": "stream",
     "text": [
      "\n",
      "ROUGE-1   : Score(precision=0.4810126582278481, recall=0.8444444444444444, fmeasure=0.6129032258064516)\n",
      "ROUGE-2   : Score(precision=0.21794871794871795, recall=0.38636363636363635, fmeasure=0.2786885245901639)\n",
      "ROUGE-L   : Score(precision=0.27848101265822783, recall=0.4888888888888889, fmeasure=0.3548387096774194)\n",
      "ROUGE-Lsum: Score(precision=0.27848101265822783, recall=0.4888888888888889, fmeasure=0.3548387096774194)\n",
      "\n"
     ]
    }
   ],
   "source": [
    "print(f\"\"\"\n",
    "ROUGE-1   : {scores['rouge1']}\n",
    "ROUGE-2   : {scores['rouge2']}\n",
    "ROUGE-L   : {scores['rougeL']}\n",
    "ROUGE-Lsum: {scores['rougeLsum']}\n",
    "\"\"\")"
   ]
  }
 ],
 "metadata": {
  "kernelspec": {
   "display_name": "GDSC",
   "language": "python",
   "name": "python3"
  },
  "language_info": {
   "codemirror_mode": {
    "name": "ipython",
    "version": 3
   },
   "file_extension": ".py",
   "mimetype": "text/x-python",
   "name": "python",
   "nbconvert_exporter": "python",
   "pygments_lexer": "ipython3",
   "version": "3.10.13"
  }
 },
 "nbformat": 4,
 "nbformat_minor": 2
}
