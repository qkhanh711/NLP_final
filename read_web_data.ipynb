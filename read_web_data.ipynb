{
 "cells": [
  {
   "cell_type": "code",
   "execution_count": 1,
   "metadata": {},
   "outputs": [],
   "source": [
    "from bs4 import BeautifulSoup as bs\n",
    "import requests as req\n",
    "from utils import *\n",
    "from tqdm import tqdm\n",
    "from serpapi import GoogleSearch\n"
   ]
  },
  {
   "cell_type": "code",
   "execution_count": 2,
   "metadata": {},
   "outputs": [],
   "source": [
    "Web = req.get('https://vnexpress.net')\n",
    "\n",
    "S = bs(Web.text, 'lxml')"
   ]
  },
  {
   "cell_type": "code",
   "execution_count": 3,
   "metadata": {},
   "outputs": [],
   "source": [
    "navigator = S.find_all(class_='main-nav')"
   ]
  },
  {
   "cell_type": "code",
   "execution_count": 4,
   "metadata": {},
   "outputs": [],
   "source": [
    "li_elements = navigator[0].find_all('li') \n",
    "classes = [li.get('class')[0] for li in li_elements][1:-1]\n",
    "paths = [li.find_all('a')[0].get('href') for li in li_elements][1:-1]\n",
    "\n",
    "classes.remove('video')\n",
    "paths.remove('https://video.vnexpress.net')"
   ]
  },
  {
   "cell_type": "markdown",
   "metadata": {},
   "source": [
    "# Clusters"
   ]
  },
  {
   "cell_type": "code",
   "execution_count": 5,
   "metadata": {},
   "outputs": [],
   "source": [
    "urls = ['https://vnexpress.net' + content for content in paths]"
   ]
  },
  {
   "cell_type": "markdown",
   "metadata": {},
   "source": [
    "# Get list article's links of cluster"
   ]
  },
  {
   "cell_type": "code",
   "execution_count": 79,
   "metadata": {},
   "outputs": [
    {
     "name": "stdout",
     "output_type": "stream",
     "text": [
      "28\n",
      "\n"
     ]
    }
   ],
   "source": [
    "articles = get_text(urls[18])[\"List articles' links\"]\n",
    "print(len(articles))\n",
    "articles[10].find_all('a')\n",
    "list_to_crawl = [article.find_all('a')[0].get('href')  for article in articles if article.find_all('a') != []]\n",
    "# print(list_to_crawl)\n",
    "print()"
   ]
  },
  {
   "cell_type": "markdown",
   "metadata": {},
   "source": [
    "# Crawl data"
   ]
  },
  {
   "cell_type": "code",
   "execution_count": 80,
   "metadata": {},
   "outputs": [],
   "source": [
    "pages = [get_text(url) for url in urls]"
   ]
  },
  {
   "cell_type": "markdown",
   "metadata": {},
   "source": [
    "## Classification"
   ]
  },
  {
   "cell_type": "code",
   "execution_count": 81,
   "metadata": {},
   "outputs": [],
   "source": [
    "# home_page = get_text(urls[0])\n",
    "def saveClusterClassification(pages):\n",
    "    for i in tqdm(range(len(pages))):\n",
    "        # print(f\"{classes[i]}: {urls[i]}\")\n",
    "        articles = pages[i][\"List articles' links\"]\n",
    "        list_to_crawl = [article.find('a')['href'] for article in articles if article.find_all('a') != []]\n",
    "        # crawler_Clasification(list_to_crawl, clusID=i)"
   ]
  },
  {
   "cell_type": "code",
   "execution_count": 82,
   "metadata": {},
   "outputs": [
    {
     "name": "stderr",
     "output_type": "stream",
     "text": [
      "100%|██████████| 20/20 [00:00<00:00, 778.51it/s]"
     ]
    },
    {
     "name": "stdout",
     "output_type": "stream",
     "text": [
      "829\n"
     ]
    },
    {
     "name": "stderr",
     "output_type": "stream",
     "text": [
      "\n"
     ]
    }
   ],
   "source": [
    "sum0 = 0\n",
    "for i in tqdm(range(len(pages))):\n",
    "    articles = pages[i][\"List articles' links\"]\n",
    "    list_to_crawl = [article.find('a')['href'] for article in articles if article.find_all('a') != []]\n",
    "    sum0 += len(list_to_crawl)\n",
    "print(sum0)"
   ]
  },
  {
   "cell_type": "code",
   "execution_count": 83,
   "metadata": {},
   "outputs": [
    {
     "name": "stderr",
     "output_type": "stream",
     "text": [
      "100%|██████████| 20/20 [00:00<00:00, 1025.10it/s]\n"
     ]
    }
   ],
   "source": [
    "saveClusterClassification(pages)"
   ]
  },
  {
   "cell_type": "markdown",
   "metadata": {},
   "source": [
    "## Summary"
   ]
  },
  {
   "cell_type": "markdown",
   "metadata": {},
   "source": [
    "### get content from vnexpress"
   ]
  },
  {
   "cell_type": "code",
   "execution_count": 84,
   "metadata": {},
   "outputs": [],
   "source": [
    "list_class_to_crawl = []\n",
    "for i in range(len(pages)):\n",
    "    # print(f\"{classes[i]}: {urls[i]}\")\n",
    "    articles = pages[i][\"List articles' links\"]\n",
    "    list_to_crawl = [article.find('a')['href'] for article in articles if article.find_all('a') != []]\n",
    "    list_class_to_crawl.extend(list_to_crawl)"
   ]
  },
  {
   "cell_type": "code",
   "execution_count": 92,
   "metadata": {},
   "outputs": [
    {
     "name": "stderr",
     "output_type": "stream",
     "text": [
      "100%|██████████| 10/10 [00:02<00:00,  4.97it/s]\n"
     ]
    }
   ],
   "source": [
    "for clusID in tqdm(range(len(list_class_to_crawl[:10]))):\n",
    "    crawler_Summary([list_class_to_crawl[clusID]], clusID=clusID)"
   ]
  },
  {
   "cell_type": "markdown",
   "metadata": {},
   "source": [
    "### serapi search cluster"
   ]
  },
  {
   "cell_type": "code",
   "execution_count": 94,
   "metadata": {},
   "outputs": [
    {
     "name": "stdout",
     "output_type": "stream",
     "text": [
      " Ông Phan Văn Mãi: 'Thành phố sẽ tìm thêm chính sách hỗ trợ công nhân' - VnExpress\n",
      "\n"
     ]
    }
   ],
   "source": [
    "organic_results  = sniper('vnexpress_data_summarization/original/Cluster_001/original/1.txt')"
   ]
  },
  {
   "cell_type": "code",
   "execution_count": 95,
   "metadata": {},
   "outputs": [
    {
     "name": "stderr",
     "output_type": "stream",
     "text": [
      "100%|██████████| 10/10 [00:02<00:00,  3.77it/s]\n"
     ]
    }
   ],
   "source": [
    "saveClusSummary(organic_results)"
   ]
  },
  {
   "cell_type": "code",
   "execution_count": 96,
   "metadata": {},
   "outputs": [
    {
     "name": "stdout",
     "output_type": "stream",
     "text": [
      " Nông dân miền Tây biến vườn thành điểm 'check-in' Tết - VnExpress Đời sống\n",
      "\n"
     ]
    },
    {
     "name": "stderr",
     "output_type": "stream",
     "text": [
      "100%|██████████| 9/9 [00:02<00:00,  3.82it/s]\n"
     ]
    },
    {
     "name": "stdout",
     "output_type": "stream",
     "text": [
      " Xe biển xanh đón con gái Chủ tịch Hội Phụ nữ tại sân bay - VnExpress\n",
      "\n"
     ]
    },
    {
     "name": "stderr",
     "output_type": "stream",
     "text": [
      "100%|██████████| 9/9 [00:04<00:00,  2.21it/s]\n"
     ]
    },
    {
     "name": "stdout",
     "output_type": "stream",
     "text": [
      " Chính phủ đốc thúc xây dựng Cơ sở dữ liệu quốc gia về đất đai - VnExpress\n",
      "\n"
     ]
    },
    {
     "name": "stderr",
     "output_type": "stream",
     "text": [
      "100%|██████████| 9/9 [00:04<00:00,  2.18it/s]\n"
     ]
    },
    {
     "name": "stdout",
     "output_type": "stream",
     "text": [
      " Doanh nghiệp địa ốc gặp rủi ro khi quá phụ thuộc vốn ngân hàng - VnExpress\n",
      "\n"
     ]
    },
    {
     "name": "stderr",
     "output_type": "stream",
     "text": [
      "100%|██████████| 9/9 [00:01<00:00,  4.81it/s]\n"
     ]
    },
    {
     "name": "stdout",
     "output_type": "stream",
     "text": [
      " Hamas đề xuất kế hoạch ngừng bắn 135 ngày - VnExpress\n",
      "\n"
     ]
    },
    {
     "name": "stderr",
     "output_type": "stream",
     "text": [
      "100%|██████████| 9/9 [00:04<00:00,  1.86it/s]\n"
     ]
    },
    {
     "name": "stdout",
     "output_type": "stream",
     "text": [
      " Apple mời sinh viên thắng giải lập trình Swift tham quan trụ sở - VnExpress Số hóa\n",
      "\n"
     ]
    },
    {
     "name": "stderr",
     "output_type": "stream",
     "text": [
      "100%|██████████| 9/9 [00:02<00:00,  3.99it/s]\n"
     ]
    },
    {
     "name": "stdout",
     "output_type": "stream",
     "text": [
      " Ba bài tập luyện phát âm tiếng Anh siêu hiệu quả - VnExpress\n",
      "\n"
     ]
    },
    {
     "name": "stderr",
     "output_type": "stream",
     "text": [
      "100%|██████████| 10/10 [00:04<00:00,  2.00it/s]\n"
     ]
    },
    {
     "name": "stdout",
     "output_type": "stream",
     "text": [
      " Thuốc nhuộm tóc có ảnh hưởng đến người bệnh hóa trị ung thư? - VnExpress Sức khỏe\n",
      "\n"
     ]
    },
    {
     "name": "stderr",
     "output_type": "stream",
     "text": [
      "100%|██████████| 9/9 [00:05<00:00,  1.73it/s]\n"
     ]
    },
    {
     "name": "stdout",
     "output_type": "stream",
     "text": [
      " Dáng đi bộ tiết lộ điều gì về sức khỏe? - VnExpress Sức khỏe\n",
      "\n"
     ]
    },
    {
     "name": "stderr",
     "output_type": "stream",
     "text": [
      "100%|██████████| 9/9 [00:04<00:00,  1.92it/s]\n"
     ]
    }
   ],
   "source": [
    "for i in range(2,11):\n",
    "    organic_results  = sniper(f'vnexpress_data_summarization/original/Cluster_{i:03}/original/1.txt')\n",
    "    saveClusSummary(organic_results, ClusID = i)"
   ]
  }
 ],
 "metadata": {
  "kernelspec": {
   "display_name": "base",
   "language": "python",
   "name": "python3"
  },
  "language_info": {
   "codemirror_mode": {
    "name": "ipython",
    "version": 3
   },
   "file_extension": ".py",
   "mimetype": "text/x-python",
   "name": "python",
   "nbconvert_exporter": "python",
   "pygments_lexer": "ipython3",
   "version": "3.1.0"
  }
 },
 "nbformat": 4,
 "nbformat_minor": 2
}
