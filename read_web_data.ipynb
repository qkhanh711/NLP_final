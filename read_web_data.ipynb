{
 "cells": [
  {
   "cell_type": "code",
   "execution_count": 67,
   "metadata": {},
   "outputs": [],
   "source": [
    "from bs4 import BeautifulSoup as bs\n",
    "import requests as req\n",
    "from utils import *\n",
    "from tqdm import tqdm\n"
   ]
  },
  {
   "cell_type": "code",
   "execution_count": 68,
   "metadata": {},
   "outputs": [],
   "source": [
    "Web = req.get('https://vnexpress.net')\n",
    "\n",
    "S = bs(Web.text, 'lxml')"
   ]
  },
  {
   "cell_type": "code",
   "execution_count": 69,
   "metadata": {},
   "outputs": [],
   "source": [
    "navigator = S.find_all(class_='main-nav')"
   ]
  },
  {
   "cell_type": "code",
   "execution_count": 70,
   "metadata": {},
   "outputs": [
    {
     "name": "stdout",
     "output_type": "stream",
     "text": [
      "['newlest', 'thoisu', 'gocnhin', 'thegioi', 'podcasts', 'kinhdoanh', 'batdongsan', 'khoahoc', 'giaitri', 'thethao', 'phapluat', 'giaoduc', 'suckhoe', 'doisong', 'dulich', 'sohoa', 'xe', 'ykien', 'tamsu', 'cuoi']\n",
      "['/tin-tuc-24h', '/thoi-su', '/goc-nhin', '/the-gioi', '/podcast', '/kinh-doanh', '/bat-dong-san', '/khoa-hoc', '/giai-tri', '/the-thao', '/phap-luat', '/giao-duc', '/suc-khoe', '/doi-song', '/du-lich', '/so-hoa', '/oto-xe-may', '/y-kien', '/tam-su', '/thu-gian']\n"
     ]
    }
   ],
   "source": [
    "li_elements = navigator[0].find_all('li') \n",
    "classes = [li.get('class')[0] for li in li_elements][1:-1]\n",
    "paths = [li.find_all('a')[0].get('href') for li in li_elements][1:-1]\n",
    "\n",
    "classes.remove('video')\n",
    "paths.remove('https://video.vnexpress.net')\n",
    "\n",
    "print(classes)\n",
    "print(paths)"
   ]
  },
  {
   "cell_type": "markdown",
   "metadata": {},
   "source": [
    "# Clusters"
   ]
  },
  {
   "cell_type": "code",
   "execution_count": 71,
   "metadata": {},
   "outputs": [
    {
     "name": "stdout",
     "output_type": "stream",
     "text": [
      "['https://vnexpress.net/tin-tuc-24h', 'https://vnexpress.net/thoi-su', 'https://vnexpress.net/goc-nhin', 'https://vnexpress.net/the-gioi', 'https://vnexpress.net/podcast', 'https://vnexpress.net/kinh-doanh', 'https://vnexpress.net/bat-dong-san', 'https://vnexpress.net/khoa-hoc', 'https://vnexpress.net/giai-tri', 'https://vnexpress.net/the-thao', 'https://vnexpress.net/phap-luat', 'https://vnexpress.net/giao-duc', 'https://vnexpress.net/suc-khoe', 'https://vnexpress.net/doi-song', 'https://vnexpress.net/du-lich', 'https://vnexpress.net/so-hoa', 'https://vnexpress.net/oto-xe-may', 'https://vnexpress.net/y-kien', 'https://vnexpress.net/tam-su', 'https://vnexpress.net/thu-gian']\n"
     ]
    }
   ],
   "source": [
    "urls = ['https://vnexpress.net' + content for content in paths]\n",
    "print(urls)"
   ]
  },
  {
   "cell_type": "markdown",
   "metadata": {},
   "source": [
    "# Get list article's links of cluster"
   ]
  },
  {
   "cell_type": "code",
   "execution_count": 72,
   "metadata": {},
   "outputs": [
    {
     "name": "stdout",
     "output_type": "stream",
     "text": [
      "28\n",
      "['https://vnexpress.net/chong-khong-muon-toi-giu-tien-va-chi-tieu-trong-gia-dinh-4708815.html', 'https://vnexpress.net/ban-gai-chia-tay-vi-khong-chap-nhan-cach-song-cua-me-va-em-toi-4708813.html', 'https://vnexpress.net/me-chong-lien-tuc-muon-su-dung-tien-cua-toi-4708460.html', 'https://vnexpress.net/vo-doi-ban-nha-ly-di-khi-vua-hoc-xong-thac-si-4706968.html', 'https://vnexpress.net/ban-gai-chi-dong-y-cuoi-khi-me-va-em-toi-co-viec-on-dinh-4708675.html', 'https://vnexpress.net/me-lo-moi-thu-cho-em-trai-nhung-tinh-toan-voi-toi-tung-dong-4708520.html', 'https://vnexpress.net/co-nen-di-lao-dong-nuoc-ngoai-khi-co-khoan-tiet-kiem-1-2-ty-dong-4708579.html', 'https://vnexpress.net/khi-doi-phuong-nay-sinh-tinh-cam-toi-se-mat-het-hung-thu-4708525.html', 'https://vnexpress.net/khong-the-gan-gui-chong-du-da-cuoi-hon-mot-nam-4708518.html', 'https://vnexpress.net/ban-gai-khong-chiu-bo-nghe-khong-dung-dan-va-co-bac-4708517.html', 'https://vnexpress.net/ba-me-toi-muon-den-song-chung-trong-can-nha-rieng-cua-vo-4708519.html', 'https://vnexpress.net/sau-10-nam-vo-lai-khien-vet-thuong-long-cua-toi-dau-don-4708461.html', 'https://vnexpress.net/dieng-nguoi-khi-biet-chong-tim-gai-goi-tu-khi-chua-cuoi-4707039.html', 'https://vnexpress.net/hoang-phi-cuoc-doi-khi-song-voi-vo-4707396.html', 'https://vnexpress.net/mot-buoi-sang-ma-vo-nhan-tin-dai-may-to-a3-voi-chong-nguoi-khac-4707398.html', 'https://vnexpress.net/co-nen-nghi-cach-kiem-tien-khi-chuan-bi-len-ke-hoach-sinh-con-4708225.html', 'https://vnexpress.net/neu-om-dom-viec-tai-chinh-cho-chong-va-ben-noi-con-toi-se-kho-4708224.html', 'https://vnexpress.net/toi-nhu-noi-dien-khi-thay-anh-cua-chong-va-mot-nguoi-dan-ong-4706966.html', 'https://vnexpress.net/la-quan-ly-nhung-toi-van-run-moi-khi-dung-truoc-dam-dong-4706434.html', 'https://vnexpress.net/cu-tim-hieu-ai-do-mot-thoi-gian-toi-lai-chan-4708066.html', 'https://vnexpress.net/chong-hay-tam-su-di-an-rieng-voi-dong-nghiep-nu-4707875.html', 'https://vnexpress.net/nguoi-chong-tot-moi-mat-cua-toi-thu-nhan-choi-hang-cam-4707864.html', 'https://vnexpress.net/22-trieu-dong-chi-tieu-moi-thang-vo-van-keu-thieu-4707866.html', 'https://vnexpress.net/co-me-de-toi-o-do-ma-chong-van-danh-toi-4707656.html', 'https://vnexpress.net/toi-nho-nhen-tinh-toan-hay-chong-gia-truong-4707865.html']\n",
      "\n"
     ]
    }
   ],
   "source": [
    "articles = get_text(urls[18])[\"List articles' links\"]\n",
    "print(len(articles))\n",
    "articles[10].find_all('a')\n",
    "list_to_crawl = [article.find_all('a')[0].get('href')  for article in articles if article.find_all('a') != []]\n",
    "print(list_to_crawl)\n",
    "print()"
   ]
  },
  {
   "cell_type": "markdown",
   "metadata": {},
   "source": [
    "# Crawl data\n",
    "\n",
    "Title:\n",
    "\n",
    "Source:\n",
    "\n",
    "Link:\n",
    "\n",
    "Published Date:\n",
    "\n",
    "Author:\n",
    "\n",
    "Tags:\n",
    "\n",
    "Summary:\n",
    "\n",
    "Content:\n"
   ]
  },
  {
   "cell_type": "markdown",
   "metadata": {},
   "source": [
    "## Classification"
   ]
  },
  {
   "cell_type": "code",
   "execution_count": 76,
   "metadata": {},
   "outputs": [],
   "source": [
    "pages = [get_text(url) for url in urls]"
   ]
  },
  {
   "cell_type": "code",
   "execution_count": 80,
   "metadata": {},
   "outputs": [],
   "source": [
    "# home_page = get_text(urls[0])\n",
    "def saveClusterClassification(pages):\n",
    "    for i in tqdm(range(len(pages))):\n",
    "        print(f\"{classes[i]}: {urls[i]}\")\n",
    "        articles = pages[i][\"List articles' links\"]\n",
    "        list_to_crawl = [article.find('a')['href'] for article in articles if article.find_all('a') != []]\n",
    "        crawler(list_to_crawl, clusID=i)"
   ]
  },
  {
   "cell_type": "code",
   "execution_count": 81,
   "metadata": {},
   "outputs": [
    {
     "name": "stderr",
     "output_type": "stream",
     "text": [
      "  0%|          | 0/20 [00:00<?, ?it/s]"
     ]
    },
    {
     "name": "stdout",
     "output_type": "stream",
     "text": [
      "newlest: https://vnexpress.net/tin-tuc-24h\n"
     ]
    },
    {
     "name": "stderr",
     "output_type": "stream",
     "text": [
      "  5%|▌         | 1/20 [00:04<01:26,  4.55s/it]"
     ]
    },
    {
     "name": "stdout",
     "output_type": "stream",
     "text": [
      "thoisu: https://vnexpress.net/thoi-su\n"
     ]
    },
    {
     "name": "stderr",
     "output_type": "stream",
     "text": [
      " 10%|█         | 2/20 [00:11<01:44,  5.80s/it]"
     ]
    },
    {
     "name": "stdout",
     "output_type": "stream",
     "text": [
      "gocnhin: https://vnexpress.net/goc-nhin\n"
     ]
    },
    {
     "name": "stderr",
     "output_type": "stream",
     "text": [
      " 15%|█▌        | 3/20 [00:16<01:36,  5.70s/it]"
     ]
    },
    {
     "name": "stdout",
     "output_type": "stream",
     "text": [
      "thegioi: https://vnexpress.net/the-gioi\n"
     ]
    },
    {
     "name": "stderr",
     "output_type": "stream",
     "text": [
      " 20%|██        | 4/20 [00:30<02:20,  8.78s/it]"
     ]
    },
    {
     "name": "stdout",
     "output_type": "stream",
     "text": [
      "podcasts: https://vnexpress.net/podcast\n"
     ]
    },
    {
     "name": "stderr",
     "output_type": "stream",
     "text": [
      " 25%|██▌       | 5/20 [00:31<01:32,  6.17s/it]"
     ]
    },
    {
     "name": "stdout",
     "output_type": "stream",
     "text": [
      "kinhdoanh: https://vnexpress.net/kinh-doanh\n"
     ]
    },
    {
     "name": "stderr",
     "output_type": "stream",
     "text": [
      " 30%|███       | 6/20 [00:47<02:11,  9.36s/it]"
     ]
    },
    {
     "name": "stdout",
     "output_type": "stream",
     "text": [
      "batdongsan: https://vnexpress.net/bat-dong-san\n"
     ]
    },
    {
     "name": "stderr",
     "output_type": "stream",
     "text": [
      " 35%|███▌      | 7/20 [01:18<03:36, 16.62s/it]"
     ]
    },
    {
     "name": "stdout",
     "output_type": "stream",
     "text": [
      "khoahoc: https://vnexpress.net/khoa-hoc\n"
     ]
    },
    {
     "name": "stderr",
     "output_type": "stream",
     "text": [
      " 40%|████      | 8/20 [01:34<03:15, 16.32s/it]"
     ]
    },
    {
     "name": "stdout",
     "output_type": "stream",
     "text": [
      "giaitri: https://vnexpress.net/giai-tri\n"
     ]
    },
    {
     "name": "stderr",
     "output_type": "stream",
     "text": [
      " 45%|████▌     | 9/20 [01:53<03:09, 17.20s/it]"
     ]
    },
    {
     "name": "stdout",
     "output_type": "stream",
     "text": [
      "thethao: https://vnexpress.net/the-thao\n"
     ]
    },
    {
     "name": "stderr",
     "output_type": "stream",
     "text": [
      " 50%|█████     | 10/20 [02:06<02:39, 15.93s/it]"
     ]
    },
    {
     "name": "stdout",
     "output_type": "stream",
     "text": [
      "phapluat: https://vnexpress.net/phap-luat\n"
     ]
    },
    {
     "name": "stderr",
     "output_type": "stream",
     "text": [
      " 55%|█████▌    | 11/20 [02:27<02:36, 17.35s/it]"
     ]
    },
    {
     "name": "stdout",
     "output_type": "stream",
     "text": [
      "giaoduc: https://vnexpress.net/giao-duc\n"
     ]
    },
    {
     "name": "stderr",
     "output_type": "stream",
     "text": [
      " 60%|██████    | 12/20 [02:36<01:57, 14.70s/it]"
     ]
    },
    {
     "name": "stdout",
     "output_type": "stream",
     "text": [
      "suckhoe: https://vnexpress.net/suc-khoe\n"
     ]
    },
    {
     "name": "stderr",
     "output_type": "stream",
     "text": [
      " 65%|██████▌   | 13/20 [02:45<01:30, 12.96s/it]"
     ]
    },
    {
     "name": "stdout",
     "output_type": "stream",
     "text": [
      "doisong: https://vnexpress.net/doi-song\n"
     ]
    },
    {
     "name": "stderr",
     "output_type": "stream",
     "text": [
      " 70%|███████   | 14/20 [02:51<01:06, 11.11s/it]"
     ]
    },
    {
     "name": "stdout",
     "output_type": "stream",
     "text": [
      "dulich: https://vnexpress.net/du-lich\n"
     ]
    },
    {
     "name": "stderr",
     "output_type": "stream",
     "text": [
      " 75%|███████▌  | 15/20 [03:00<00:51, 10.39s/it]"
     ]
    },
    {
     "name": "stdout",
     "output_type": "stream",
     "text": [
      "sohoa: https://vnexpress.net/so-hoa\n"
     ]
    },
    {
     "name": "stderr",
     "output_type": "stream",
     "text": [
      " 80%|████████  | 16/20 [03:06<00:36,  9.03s/it]"
     ]
    },
    {
     "name": "stdout",
     "output_type": "stream",
     "text": [
      "xe: https://vnexpress.net/oto-xe-may\n"
     ]
    },
    {
     "name": "stderr",
     "output_type": "stream",
     "text": [
      " 85%|████████▌ | 17/20 [03:17<00:28,  9.50s/it]"
     ]
    },
    {
     "name": "stdout",
     "output_type": "stream",
     "text": [
      "ykien: https://vnexpress.net/y-kien\n"
     ]
    },
    {
     "name": "stderr",
     "output_type": "stream",
     "text": [
      " 90%|█████████ | 18/20 [03:23<00:17,  8.57s/it]"
     ]
    },
    {
     "name": "stdout",
     "output_type": "stream",
     "text": [
      "tamsu: https://vnexpress.net/tam-su\n"
     ]
    },
    {
     "name": "stderr",
     "output_type": "stream",
     "text": [
      " 95%|█████████▌| 19/20 [03:26<00:07,  7.02s/it]"
     ]
    },
    {
     "name": "stdout",
     "output_type": "stream",
     "text": [
      "cuoi: https://vnexpress.net/thu-gian\n"
     ]
    },
    {
     "name": "stderr",
     "output_type": "stream",
     "text": [
      "100%|██████████| 20/20 [03:32<00:00, 10.61s/it]\n"
     ]
    }
   ],
   "source": [
    "saveClusterClassification(pages)"
   ]
  },
  {
   "cell_type": "markdown",
   "metadata": {},
   "source": [
    "## Summary"
   ]
  },
  {
   "cell_type": "code",
   "execution_count": null,
   "metadata": {},
   "outputs": [],
   "source": []
  }
 ],
 "metadata": {
  "kernelspec": {
   "display_name": "base",
   "language": "python",
   "name": "python3"
  },
  "language_info": {
   "codemirror_mode": {
    "name": "ipython",
    "version": 3
   },
   "file_extension": ".py",
   "mimetype": "text/x-python",
   "name": "python",
   "nbconvert_exporter": "python",
   "pygments_lexer": "ipython3",
   "version": "3.11.5"
  }
 },
 "nbformat": 4,
 "nbformat_minor": 2
}
