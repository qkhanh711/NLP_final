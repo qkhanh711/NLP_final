{
 "cells": [
  {
   "cell_type": "code",
   "execution_count": 1,
   "metadata": {},
   "outputs": [],
   "source": [
    "from bs4 import BeautifulSoup as bs\n",
    "import requests as req\n",
    "from utils import *\n",
    "from tqdm import tqdm"
   ]
  },
  {
   "cell_type": "code",
   "execution_count": 2,
   "metadata": {},
   "outputs": [],
   "source": [
    "Web = req.get('https://vnexpress.net')\n",
    "\n",
    "S = bs(Web.text, 'lxml')"
   ]
  },
  {
   "cell_type": "code",
   "execution_count": 3,
   "metadata": {},
   "outputs": [],
   "source": [
    "navigator = S.find_all(class_='main-nav')"
   ]
  },
  {
   "cell_type": "code",
   "execution_count": 4,
   "metadata": {},
   "outputs": [
    {
     "name": "stdout",
     "output_type": "stream",
     "text": [
      "['newlest', 'thoisu', 'gocnhin', 'thegioi', 'podcasts', 'kinhdoanh', 'batdongsan', 'khoahoc', 'giaitri', 'thethao', 'phapluat', 'giaoduc', 'suckhoe', 'doisong', 'dulich', 'sohoa', 'xe', 'ykien', 'tamsu', 'cuoi']\n",
      "['/tin-tuc-24h', '/thoi-su', '/goc-nhin', '/the-gioi', '/podcast', '/kinh-doanh', '/bat-dong-san', '/khoa-hoc', '/giai-tri', '/the-thao', '/phap-luat', '/giao-duc', '/suc-khoe', '/doi-song', '/du-lich', '/so-hoa', '/oto-xe-may', '/y-kien', '/tam-su', '/thu-gian']\n"
     ]
    }
   ],
   "source": [
    "li_elements = navigator[0].find_all('li') \n",
    "classes = [li.get('class')[0] for li in li_elements][1:-1]\n",
    "paths = [li.find_all('a')[0].get('href') for li in li_elements][1:-1]\n",
    "\n",
    "classes.remove('video')\n",
    "paths.remove('https://video.vnexpress.net')\n",
    "\n",
    "print(classes)\n",
    "print(paths)"
   ]
  },
  {
   "cell_type": "markdown",
   "metadata": {},
   "source": [
    "# Clusters"
   ]
  },
  {
   "cell_type": "code",
   "execution_count": 5,
   "metadata": {},
   "outputs": [
    {
     "name": "stdout",
     "output_type": "stream",
     "text": [
      "['https://vnexpress.net/tin-tuc-24h', 'https://vnexpress.net/thoi-su', 'https://vnexpress.net/goc-nhin', 'https://vnexpress.net/the-gioi', 'https://vnexpress.net/podcast', 'https://vnexpress.net/kinh-doanh', 'https://vnexpress.net/bat-dong-san', 'https://vnexpress.net/khoa-hoc', 'https://vnexpress.net/giai-tri', 'https://vnexpress.net/the-thao', 'https://vnexpress.net/phap-luat', 'https://vnexpress.net/giao-duc', 'https://vnexpress.net/suc-khoe', 'https://vnexpress.net/doi-song', 'https://vnexpress.net/du-lich', 'https://vnexpress.net/so-hoa', 'https://vnexpress.net/oto-xe-may', 'https://vnexpress.net/y-kien', 'https://vnexpress.net/tam-su', 'https://vnexpress.net/thu-gian']\n"
     ]
    }
   ],
   "source": [
    "urls = ['https://vnexpress.net' + content for content in paths]\n",
    "print(urls)"
   ]
  },
  {
   "cell_type": "markdown",
   "metadata": {},
   "source": [
    "# Get list article's links of cluster"
   ]
  },
  {
   "cell_type": "code",
   "execution_count": 6,
   "metadata": {},
   "outputs": [
    {
     "name": "stdout",
     "output_type": "stream",
     "text": [
      "28\n",
      "['https://vnexpress.net/chong-khong-vui-khi-toi-kiem-duoc-tien-4709221.html', 'https://vnexpress.net/vo-khong-cho-toi-xuat-ngoai-lam-viec-luong-thang-10-000-usd-4709203.html', 'https://vnexpress.net/ban-trai-muon-toi-gop-chung-tien-mua-nhan-cuoi-chup-hinh-4709200.html', 'https://vnexpress.net/chong-noi-cac-con-khong-phai-cua-anh-du-toi-chua-tung-ngoai-tinh-4709162.html', 'https://vnexpress.net/vo-khong-dong-y-moi-toi-thu-sau-toi-lai-ve-nha-me-chong-o-4708975.html', 'https://vnexpress.net/so-qua-lua-lo-thi-toi-bat-chap-cuoi-anh-roi-hoi-han-4706161.html', 'https://vnexpress.net/bo-mang-chui-va-bat-em-lam-viec-lien-tuc-4709046.html', 'https://vnexpress.net/chong-khong-muon-toi-giu-tien-va-chi-tieu-trong-gia-dinh-4708815.html', 'https://vnexpress.net/ban-gai-chia-tay-vi-khong-chap-nhan-cach-song-cua-me-va-em-toi-4708813.html', 'https://vnexpress.net/me-chong-lien-tuc-muon-su-dung-tien-cua-toi-4708460.html', 'https://vnexpress.net/vo-doi-ban-nha-ly-di-khi-vua-hoc-xong-thac-si-4706968.html', 'https://vnexpress.net/ban-gai-chi-dong-y-cuoi-khi-me-va-em-toi-co-viec-on-dinh-4708675.html', 'https://vnexpress.net/me-lo-moi-thu-cho-em-trai-nhung-tinh-toan-voi-toi-tung-dong-4708520.html', 'https://vnexpress.net/co-nen-di-lao-dong-nuoc-ngoai-khi-co-khoan-tiet-kiem-1-2-ty-dong-4708579.html', 'https://vnexpress.net/khi-doi-phuong-nay-sinh-tinh-cam-toi-se-mat-het-hung-thu-4708525.html', 'https://vnexpress.net/khong-the-gan-gui-chong-du-da-cuoi-hon-mot-nam-4708518.html', 'https://vnexpress.net/ban-gai-khong-chiu-bo-nghe-khong-dung-dan-va-co-bac-4708517.html', 'https://vnexpress.net/ba-me-toi-muon-den-song-chung-trong-can-nha-rieng-cua-vo-4708519.html', 'https://vnexpress.net/sau-10-nam-vo-lai-khien-vet-thuong-long-cua-toi-dau-don-4708461.html', 'https://vnexpress.net/dieng-nguoi-khi-biet-chong-tim-gai-goi-tu-khi-chua-cuoi-4707039.html', 'https://vnexpress.net/hoang-phi-cuoc-doi-khi-song-voi-vo-4707396.html', 'https://vnexpress.net/mot-buoi-sang-ma-vo-nhan-tin-dai-may-to-a3-voi-chong-nguoi-khac-4707398.html', 'https://vnexpress.net/co-nen-nghi-cach-kiem-tien-khi-chuan-bi-len-ke-hoach-sinh-con-4708225.html', 'https://vnexpress.net/neu-om-dom-viec-tai-chinh-cho-chong-va-ben-noi-con-toi-se-kho-4708224.html', 'https://vnexpress.net/toi-nhu-noi-dien-khi-thay-anh-cua-chong-va-mot-nguoi-dan-ong-4706966.html']\n",
      "\n"
     ]
    }
   ],
   "source": [
    "articles = get_text(urls[18])[\"List articles' links\"]\n",
    "print(len(articles))\n",
    "articles[10].find_all('a')\n",
    "list_to_crawl = [article.find_all('a')[0].get('href')  for article in articles if article.find_all('a') != []]\n",
    "print(list_to_crawl)\n",
    "print()"
   ]
  },
  {
   "cell_type": "markdown",
   "metadata": {},
   "source": [
    "# Crawl data\n",
    "\n",
    "Title:\n",
    "\n",
    "Source:\n",
    "\n",
    "Link:\n",
    "\n",
    "Published Date:\n",
    "\n",
    "Author:\n",
    "\n",
    "Tags:\n",
    "\n",
    "Summary:\n",
    "\n",
    "Content:\n"
   ]
  },
  {
   "cell_type": "code",
   "execution_count": 7,
   "metadata": {},
   "outputs": [],
   "source": [
    "pages = [get_text(url) for url in urls]"
   ]
  },
  {
   "cell_type": "markdown",
   "metadata": {},
   "source": [
    "## Classification"
   ]
  },
  {
   "cell_type": "code",
   "execution_count": 8,
   "metadata": {},
   "outputs": [],
   "source": [
    "# home_page = get_text(urls[0])\n",
    "def saveClusterClassification(pages):\n",
    "    for i in tqdm(range(len(pages))):\n",
    "        print(f\"{classes[i]}: {urls[i]}\")\n",
    "        articles = pages[i][\"List articles' links\"]\n",
    "        list_to_crawl = [article.find('a')['href'] for article in articles if article.find_all('a') != []]\n",
    "        crawler_Clasification(list_to_crawl, clusID=i)"
   ]
  },
  {
   "cell_type": "code",
   "execution_count": 19,
   "metadata": {},
   "outputs": [
    {
     "name": "stderr",
     "output_type": "stream",
     "text": [
      "100%|██████████| 20/20 [00:00<00:00, 930.67it/s]"
     ]
    },
    {
     "name": "stdout",
     "output_type": "stream",
     "text": [
      "829\n"
     ]
    },
    {
     "name": "stderr",
     "output_type": "stream",
     "text": [
      "\n"
     ]
    }
   ],
   "source": [
    "sum0 = 0\n",
    "for i in tqdm(range(len(pages))):\n",
    "    articles = pages[i][\"List articles' links\"]\n",
    "    list_to_crawl = [article.find('a')['href'] for article in articles if article.find_all('a') != []]\n",
    "    sum0 += len(list_to_crawl)\n",
    "print(sum0)"
   ]
  },
  {
   "cell_type": "code",
   "execution_count": 9,
   "metadata": {},
   "outputs": [
    {
     "name": "stderr",
     "output_type": "stream",
     "text": [
      "  0%|          | 0/20 [00:00<?, ?it/s]"
     ]
    },
    {
     "name": "stdout",
     "output_type": "stream",
     "text": [
      "newlest: https://vnexpress.net/tin-tuc-24h\n"
     ]
    },
    {
     "name": "stderr",
     "output_type": "stream",
     "text": [
      "  5%|▌         | 1/20 [00:04<01:23,  4.39s/it]"
     ]
    },
    {
     "name": "stdout",
     "output_type": "stream",
     "text": [
      "thoisu: https://vnexpress.net/thoi-su\n"
     ]
    },
    {
     "name": "stderr",
     "output_type": "stream",
     "text": [
      " 10%|█         | 2/20 [00:13<02:06,  7.05s/it]"
     ]
    },
    {
     "name": "stdout",
     "output_type": "stream",
     "text": [
      "gocnhin: https://vnexpress.net/goc-nhin\n"
     ]
    },
    {
     "name": "stderr",
     "output_type": "stream",
     "text": [
      " 15%|█▌        | 3/20 [00:21<02:12,  7.80s/it]"
     ]
    },
    {
     "name": "stdout",
     "output_type": "stream",
     "text": [
      "thegioi: https://vnexpress.net/the-gioi\n"
     ]
    },
    {
     "name": "stderr",
     "output_type": "stream",
     "text": [
      " 20%|██        | 4/20 [00:32<02:20,  8.78s/it]"
     ]
    },
    {
     "name": "stdout",
     "output_type": "stream",
     "text": [
      "podcasts: https://vnexpress.net/podcast\n"
     ]
    },
    {
     "name": "stderr",
     "output_type": "stream",
     "text": [
      " 25%|██▌       | 5/20 [00:32<01:27,  5.83s/it]"
     ]
    },
    {
     "name": "stdout",
     "output_type": "stream",
     "text": [
      "kinhdoanh: https://vnexpress.net/kinh-doanh\n"
     ]
    },
    {
     "name": "stderr",
     "output_type": "stream",
     "text": [
      " 30%|███       | 6/20 [00:42<01:41,  7.25s/it]"
     ]
    },
    {
     "name": "stdout",
     "output_type": "stream",
     "text": [
      "batdongsan: https://vnexpress.net/bat-dong-san\n"
     ]
    },
    {
     "name": "stderr",
     "output_type": "stream",
     "text": [
      " 35%|███▌      | 7/20 [01:06<02:45, 12.75s/it]"
     ]
    },
    {
     "name": "stdout",
     "output_type": "stream",
     "text": [
      "khoahoc: https://vnexpress.net/khoa-hoc\n"
     ]
    },
    {
     "name": "stderr",
     "output_type": "stream",
     "text": [
      " 40%|████      | 8/20 [01:15<02:16, 11.39s/it]"
     ]
    },
    {
     "name": "stdout",
     "output_type": "stream",
     "text": [
      "giaitri: https://vnexpress.net/giai-tri\n"
     ]
    },
    {
     "name": "stderr",
     "output_type": "stream",
     "text": [
      " 45%|████▌     | 9/20 [01:27<02:07, 11.63s/it]"
     ]
    },
    {
     "name": "stdout",
     "output_type": "stream",
     "text": [
      "thethao: https://vnexpress.net/the-thao\n"
     ]
    },
    {
     "name": "stderr",
     "output_type": "stream",
     "text": [
      " 50%|█████     | 10/20 [01:36<01:49, 10.94s/it]"
     ]
    },
    {
     "name": "stdout",
     "output_type": "stream",
     "text": [
      "phapluat: https://vnexpress.net/phap-luat\n"
     ]
    },
    {
     "name": "stderr",
     "output_type": "stream",
     "text": [
      " 55%|█████▌    | 11/20 [01:48<01:38, 10.96s/it]"
     ]
    },
    {
     "name": "stdout",
     "output_type": "stream",
     "text": [
      "giaoduc: https://vnexpress.net/giao-duc\n"
     ]
    },
    {
     "name": "stderr",
     "output_type": "stream",
     "text": [
      " 60%|██████    | 12/20 [02:04<01:41, 12.74s/it]"
     ]
    },
    {
     "name": "stdout",
     "output_type": "stream",
     "text": [
      "suckhoe: https://vnexpress.net/suc-khoe\n"
     ]
    },
    {
     "name": "stderr",
     "output_type": "stream",
     "text": [
      " 65%|██████▌   | 13/20 [02:22<01:39, 14.20s/it]"
     ]
    },
    {
     "name": "stdout",
     "output_type": "stream",
     "text": [
      "doisong: https://vnexpress.net/doi-song\n"
     ]
    },
    {
     "name": "stderr",
     "output_type": "stream",
     "text": [
      " 70%|███████   | 14/20 [02:37<01:27, 14.60s/it]"
     ]
    },
    {
     "name": "stdout",
     "output_type": "stream",
     "text": [
      "dulich: https://vnexpress.net/du-lich\n"
     ]
    },
    {
     "name": "stderr",
     "output_type": "stream",
     "text": [
      " 75%|███████▌  | 15/20 [02:59<01:23, 16.76s/it]"
     ]
    },
    {
     "name": "stdout",
     "output_type": "stream",
     "text": [
      "sohoa: https://vnexpress.net/so-hoa\n"
     ]
    },
    {
     "name": "stderr",
     "output_type": "stream",
     "text": [
      " 80%|████████  | 16/20 [03:15<01:05, 16.39s/it]"
     ]
    },
    {
     "name": "stdout",
     "output_type": "stream",
     "text": [
      "xe: https://vnexpress.net/oto-xe-may\n"
     ]
    },
    {
     "name": "stderr",
     "output_type": "stream",
     "text": [
      " 85%|████████▌ | 17/20 [03:25<00:44, 14.69s/it]"
     ]
    },
    {
     "name": "stdout",
     "output_type": "stream",
     "text": [
      "ykien: https://vnexpress.net/y-kien\n"
     ]
    },
    {
     "name": "stderr",
     "output_type": "stream",
     "text": [
      " 90%|█████████ | 18/20 [03:33<00:24, 12.50s/it]"
     ]
    },
    {
     "name": "stdout",
     "output_type": "stream",
     "text": [
      "tamsu: https://vnexpress.net/tam-su\n"
     ]
    },
    {
     "name": "stderr",
     "output_type": "stream",
     "text": [
      " 95%|█████████▌| 19/20 [03:37<00:09,  9.98s/it]"
     ]
    },
    {
     "name": "stdout",
     "output_type": "stream",
     "text": [
      "cuoi: https://vnexpress.net/thu-gian\n"
     ]
    },
    {
     "name": "stderr",
     "output_type": "stream",
     "text": [
      "100%|██████████| 20/20 [03:45<00:00, 11.25s/it]\n"
     ]
    }
   ],
   "source": [
    "saveClusterClassification(pages)"
   ]
  },
  {
   "cell_type": "markdown",
   "metadata": {},
   "source": [
    "## Summary"
   ]
  },
  {
   "cell_type": "markdown",
   "metadata": {},
   "source": [
    "### get content from vnexpress"
   ]
  },
  {
   "cell_type": "code",
   "execution_count": null,
   "metadata": {},
   "outputs": [],
   "source": [
    "sum0 = 0\n",
    "for i in tqdm(range(len(pages))):\n",
    "    articles = pages[i][\"List articles' links\"]\n",
    "    list_to_crawl = [article.find('a')['href'] for article in articles if article.find_all('a') != []]\n",
    "    sum0 += len(list_to_crawl)\n",
    "print(sum0)"
   ]
  },
  {
   "cell_type": "code",
   "execution_count": 24,
   "metadata": {},
   "outputs": [
    {
     "name": "stdout",
     "output_type": "stream",
     "text": [
      "newlest: https://vnexpress.net/tin-tuc-24h\n",
      "thoisu: https://vnexpress.net/thoi-su\n",
      "gocnhin: https://vnexpress.net/goc-nhin\n",
      "thegioi: https://vnexpress.net/the-gioi\n",
      "podcasts: https://vnexpress.net/podcast\n",
      "kinhdoanh: https://vnexpress.net/kinh-doanh\n",
      "batdongsan: https://vnexpress.net/bat-dong-san\n",
      "khoahoc: https://vnexpress.net/khoa-hoc\n",
      "giaitri: https://vnexpress.net/giai-tri\n",
      "thethao: https://vnexpress.net/the-thao\n",
      "phapluat: https://vnexpress.net/phap-luat\n",
      "giaoduc: https://vnexpress.net/giao-duc\n",
      "suckhoe: https://vnexpress.net/suc-khoe\n",
      "doisong: https://vnexpress.net/doi-song\n",
      "dulich: https://vnexpress.net/du-lich\n",
      "sohoa: https://vnexpress.net/so-hoa\n",
      "xe: https://vnexpress.net/oto-xe-may\n",
      "ykien: https://vnexpress.net/y-kien\n",
      "tamsu: https://vnexpress.net/tam-su\n",
      "cuoi: https://vnexpress.net/thu-gian\n"
     ]
    }
   ],
   "source": [
    "list_class_to_crawl = []\n",
    "for i in range(len(pages)):\n",
    "    print(f\"{classes[i]}: {urls[i]}\")\n",
    "    articles = pages[i][\"List articles' links\"]\n",
    "    list_to_crawl = [article.find('a')['href'] for article in articles if article.find_all('a') != []]\n",
    "    list_class_to_crawl.extend(list_to_crawl)"
   ]
  },
  {
   "cell_type": "code",
   "execution_count": 29,
   "metadata": {},
   "outputs": [
    {
     "name": "stderr",
     "output_type": "stream",
     "text": [
      "100%|██████████| 10/10 [00:01<00:00,  8.22it/s]\n"
     ]
    }
   ],
   "source": [
    "for clusID in tqdm(range(len(list_class_to_crawl[:10]))):\n",
    "    crawler_Summary([list_class_to_crawl[clusID]], clusID=clusID)"
   ]
  },
  {
   "cell_type": "markdown",
   "metadata": {},
   "source": [
    "### serapi search cluster"
   ]
  },
  {
   "cell_type": "code",
   "execution_count": 8,
   "metadata": {},
   "outputs": [
    {
     "name": "stdout",
     "output_type": "stream",
     "text": [
      " 3 mẹo ăn bánh chưng giúp hạn chế tăng cân - VnExpress Sức khỏe\n",
      "\n"
     ]
    }
   ],
   "source": [
    "from serpapi import GoogleSearch\n",
    "\n",
    "with open('vnexpress_data_summarization/original/Cluster_001/original/1.txt ', 'r') as f:\n",
    "    lines = f.readlines()\n",
    "    tag = lines[5]\n",
    "    title = lines[0]\n",
    "    print(title[6:])\n",
    "    params = {\n",
    "        \"q\": f\"{title[6:]}\",\n",
    "        \"location\": \"Vietnam\",\n",
    "        \"hl\": \"en\",\n",
    "        \"gl\": \"us\",\n",
    "        \"google_domain\": \"google.com\",\n",
    "        \"api_key\": \"d229d82c7ffb85675c13b46b7e28d5b2707a64a3a374f5a535a2f83d85ac3c58\"\n",
    "        }\n",
    "    search = GoogleSearch(params)\n",
    "    results = search.get_dict()"
   ]
  },
  {
   "cell_type": "code",
   "execution_count": 9,
   "metadata": {},
   "outputs": [
    {
     "data": {
      "text/plain": [
       "{'search_metadata': {'id': '65c25dd22c084406a7f6d586',\n",
       "  'status': 'Success',\n",
       "  'json_endpoint': 'https://serpapi.com/searches/6a933746fddf1080/65c25dd22c084406a7f6d586.json',\n",
       "  'created_at': '2024-02-06 16:26:58 UTC',\n",
       "  'processed_at': '2024-02-06 16:26:58 UTC',\n",
       "  'google_url': 'https://www.google.com/search?q=+3+m%E1%BA%B9o+%C4%83n+b%C3%A1nh+ch%C6%B0ng+gi%C3%BAp+h%E1%BA%A1n+ch%E1%BA%BF+t%C4%83ng+c%C3%A2n+-+VnExpress+S%E1%BB%A9c+kh%E1%BB%8Fe%0A&oq=+3+m%E1%BA%B9o+%C4%83n+b%C3%A1nh+ch%C6%B0ng+gi%C3%BAp+h%E1%BA%A1n+ch%E1%BA%BF+t%C4%83ng+c%C3%A2n+-+VnExpress+S%E1%BB%A9c+kh%E1%BB%8Fe%0A&uule=w+CAIQICIHVmlldG5hbQ&hl=en&gl=us&sourceid=chrome&ie=UTF-8',\n",
       "  'raw_html_file': 'https://serpapi.com/searches/6a933746fddf1080/65c25dd22c084406a7f6d586.html',\n",
       "  'total_time_taken': 1.66},\n",
       " 'search_parameters': {'engine': 'google',\n",
       "  'q': ' 3 mẹo ăn bánh chưng giúp hạn chế tăng cân - VnExpress Sức khỏe\\n',\n",
       "  'location_requested': 'Vietnam',\n",
       "  'location_used': 'Vietnam',\n",
       "  'google_domain': 'google.com',\n",
       "  'hl': 'en',\n",
       "  'gl': 'us',\n",
       "  'device': 'desktop'},\n",
       " 'search_information': {'query_displayed': '3 mẹo ăn bánh chưng giúp hạn chế tăng cân - VnExpress Sức khỏe',\n",
       "  'total_results': 252000,\n",
       "  'time_taken_displayed': 0.49,\n",
       "  'menu_items': [{'position': 1,\n",
       "    'title': 'Images',\n",
       "    'link': 'https://www.google.com/search?sca_esv=8e2660c4d8666842&hl=en&gl=us&q=3+m%E1%BA%B9o+%C4%83n+b%C3%A1nh+ch%C6%B0ng+gi%C3%BAp+h%E1%BA%A1n+ch%E1%BA%BF+t%C4%83ng+c%C3%A2n+-+VnExpress+S%E1%BB%A9c+kh%E1%BB%8Fe&tbm=isch&source=lnms&sa=X&ved=2ahUKEwji2aPhkJeEAxVfjYkEHY7KBrMQ0pQJegQIDBAB',\n",
       "    'serpapi_link': 'https://serpapi.com/search.json?device=desktop&engine=google_images&gl=us&google_domain=google.com&hl=en&q=3+m%E1%BA%B9o+%C4%83n+b%C3%A1nh+ch%C6%B0ng+gi%C3%BAp+h%E1%BA%A1n+ch%E1%BA%BF+t%C4%83ng+c%C3%A2n+-+VnExpress+S%E1%BB%A9c+kh%E1%BB%8Fe'},\n",
       "   {'position': 2,\n",
       "    'title': 'Web Results',\n",
       "    'link': 'https://www.google.com/search?sca_esv=8e2660c4d8666842&hl=en&gl=us&q=3+m%E1%BA%B9o+%C4%83n+b%C3%A1nh+ch%C6%B0ng+gi%C3%BAp+h%E1%BA%A1n+ch%E1%BA%BF+t%C4%83ng+c%C3%A2n+-+VnExpress+S%E1%BB%A9c+kh%E1%BB%8Fe&uds=AMwkrPv61tHhcgwGvvZj4-22VEmHrrWj-qSyCkL2CIYzqfZErhVa5M8OrXEqiApFmQShLfhvd3brNn0BIJU9sS22jf42whdnbncCGTVkv6JOEVZILBpMoZKB2bjQZAv4Dx7efowaw1u4d9_gdiiAcevE80tX3PUwoIbZIcUesXyjocAn-W42yuwsw6rmYkcd56nCeYcC3qiyaH_r__2044Qn_GAL3KGwYg&udm=14&sa=X&ved=2ahUKEwji2aPhkJeEAxVfjYkEHY7KBrMQs6gLegQIBxAB',\n",
       "    'serpapi_link': 'https://serpapi.com/search.json?device=desktop&engine=google&gl=us&google_domain=google.com&hl=en&q=3+m%E1%BA%B9o+%C4%83n+b%C3%A1nh+ch%C6%B0ng+gi%C3%BAp+h%E1%BA%A1n+ch%E1%BA%BF+t%C4%83ng+c%C3%A2n+-+VnExpress+S%E1%BB%A9c+kh%E1%BB%8Fe'},\n",
       "   {'position': 3,\n",
       "    'title': 'Perspectives',\n",
       "    'link': 'https://www.google.com/search?sca_esv=8e2660c4d8666842&hl=en&gl=us&q=3+m%E1%BA%B9o+%C4%83n+b%C3%A1nh+ch%C6%B0ng+gi%C3%BAp+h%E1%BA%A1n+ch%E1%BA%BF+t%C4%83ng+c%C3%A2n+-+VnExpress+S%E1%BB%A9c+kh%E1%BB%8Fe&uds=AMwkrPsxYT6ZhyMDm9m69cAa3-_GfetsSIJz30gjrTvedI-3vz5zAPeTTUEGQ_kCT_MTSSYoT9owotsnGGF0cTirfjLb6CVr13udz9_LWxn3szspi0QsEEjb6bUQ5uZpnd9O7BhUNcESKlesHsqS0tBkwdFLeWxgGzxpemM3IAx1b-4HO76Kgy5E_ELkz90O5sMqv_OtXfGeBry-jS6_y9mfWY6WyRgstg&udm=4&sa=X&ved=2ahUKEwji2aPhkJeEAxVfjYkEHY7KBrMQs6gLegQIChAB',\n",
       "    'serpapi_link': 'https://serpapi.com/search.json?device=desktop&engine=google&gl=us&google_domain=google.com&hl=en&q=3+m%E1%BA%B9o+%C4%83n+b%C3%A1nh+ch%C6%B0ng+gi%C3%BAp+h%E1%BA%A1n+ch%E1%BA%BF+t%C4%83ng+c%C3%A2n+-+VnExpress+S%E1%BB%A9c+kh%E1%BB%8Fe'},\n",
       "   {'position': 4,\n",
       "    'title': 'Videos',\n",
       "    'link': 'https://www.google.com/search?sca_esv=8e2660c4d8666842&hl=en&gl=us&q=3+m%E1%BA%B9o+%C4%83n+b%C3%A1nh+ch%C6%B0ng+gi%C3%BAp+h%E1%BA%A1n+ch%E1%BA%BF+t%C4%83ng+c%C3%A2n+-+VnExpress+S%E1%BB%A9c+kh%E1%BB%8Fe&tbm=vid&source=lnms&sa=X&ved=2ahUKEwji2aPhkJeEAxVfjYkEHY7KBrMQ0pQJegQICxAB',\n",
       "    'serpapi_link': 'https://serpapi.com/search.json?device=desktop&engine=google_videos&gl=us&google_domain=google.com&hl=en&q=3+m%E1%BA%B9o+%C4%83n+b%C3%A1nh+ch%C6%B0ng+gi%C3%BAp+h%E1%BA%A1n+ch%E1%BA%BF+t%C4%83ng+c%C3%A2n+-+VnExpress+S%E1%BB%A9c+kh%E1%BB%8Fe'},\n",
       "   {'position': 5,\n",
       "    'title': 'News',\n",
       "    'link': 'https://www.google.com/search?sca_esv=8e2660c4d8666842&hl=en&gl=us&q=3+m%E1%BA%B9o+%C4%83n+b%C3%A1nh+ch%C6%B0ng+gi%C3%BAp+h%E1%BA%A1n+ch%E1%BA%BF+t%C4%83ng+c%C3%A2n+-+VnExpress+S%E1%BB%A9c+kh%E1%BB%8Fe&tbm=nws&source=lnms&sa=X&ved=2ahUKEwji2aPhkJeEAxVfjYkEHY7KBrMQ0pQJegQIKxAB',\n",
       "    'serpapi_link': 'https://serpapi.com/search.json?device=desktop&engine=google&gl=us&google_domain=google.com&hl=en&q=3+m%E1%BA%B9o+%C4%83n+b%C3%A1nh+ch%C6%B0ng+gi%C3%BAp+h%E1%BA%A1n+ch%E1%BA%BF+t%C4%83ng+c%C3%A2n+-+VnExpress+S%E1%BB%A9c+kh%E1%BB%8Fe&tbm=nws'},\n",
       "   {'position': 6,\n",
       "    'title': 'Shopping',\n",
       "    'link': 'https://www.google.com/search?sca_esv=8e2660c4d8666842&hl=en&gl=us&q=3+m%E1%BA%B9o+%C4%83n+b%C3%A1nh+ch%C6%B0ng+gi%C3%BAp+h%E1%BA%A1n+ch%E1%BA%BF+t%C4%83ng+c%C3%A2n+-+VnExpress+S%E1%BB%A9c+kh%E1%BB%8Fe&tbm=shop&source=lnms',\n",
       "    'serpapi_link': 'https://serpapi.com/search.json?device=desktop&engine=google_shopping&gl=us&google_domain=google.com&hl=en&q=3+m%E1%BA%B9o+%C4%83n+b%C3%A1nh+ch%C6%B0ng+gi%C3%BAp+h%E1%BA%A1n+ch%E1%BA%BF+t%C4%83ng+c%C3%A2n+-+VnExpress+S%E1%BB%A9c+kh%E1%BB%8Fe'},\n",
       "   {'position': 7,\n",
       "    'title': 'Books',\n",
       "    'link': 'https://www.google.com/search?sca_esv=8e2660c4d8666842&hl=en&gl=us&q=3+m%E1%BA%B9o+%C4%83n+b%C3%A1nh+ch%C6%B0ng+gi%C3%BAp+h%E1%BA%A1n+ch%E1%BA%BF+t%C4%83ng+c%C3%A2n+-+VnExpress+S%E1%BB%A9c+kh%E1%BB%8Fe&tbm=bks&source=lnms&sa=X&ved=2ahUKEwji2aPhkJeEAxVfjYkEHY7KBrMQ0pQJegQILhAB'},\n",
       "   {'position': 8,\n",
       "    'title': 'Maps',\n",
       "    'link': 'https://maps.google.com/maps?sca_esv=8e2660c4d8666842&hl=en&gl=us&output=search&q=3+m%E1%BA%B9o+%C4%83n+b%C3%A1nh+ch%C6%B0ng+gi%C3%BAp+h%E1%BA%A1n+ch%E1%BA%BF+t%C4%83ng+c%C3%A2n+-+VnExpress+S%E1%BB%A9c+kh%E1%BB%8Fe&source=lnms&entry=mc'},\n",
       "   {'position': 9,\n",
       "    'title': 'Flights',\n",
       "    'link': 'https://www.google.com/travel/flights?sca_esv=8e2660c4d8666842&hl=en&gl=us&output=search&q=3+m%E1%BA%B9o+%C4%83n+b%C3%A1nh+ch%C6%B0ng+gi%C3%BAp+h%E1%BA%A1n+ch%E1%BA%BF+t%C4%83ng+c%C3%A2n+-+VnExpress+S%E1%BB%A9c+kh%E1%BB%8Fe&source=lnms'}],\n",
       "  'organic_results_state': 'Results for exact spelling'},\n",
       " 'recipes_results': [{'title': 'Cách nấu nước đậu đen thanh lọc cơ thể, giảm cân',\n",
       "   'link': 'https://vnexpress.net/cach-nau-nuoc-dau-den-thanh-loc-co-the-giam-can-4494549.html',\n",
       "   'source': 'VnExpress',\n",
       "   'total_time': '30 min',\n",
       "   'thumbnail': 'https://serpapi.com/searches/65c25dd22c084406a7f6d586/images/f4391c8e88f0abb1707b6308cf22d425f2661a0f846e525f5b58d6167633bddb.jpeg'},\n",
       "  {'title': 'Trà gạo gừng rang hỗ trợ thải độc, tiêu mỡ',\n",
       "   'link': 'https://vnexpress.net/cach-lam-tra-gao-gung-rang-ho-tro-thai-doc-tieu-mo-4497433.html',\n",
       "   'source': 'VnExpress',\n",
       "   'total_time': '30 min',\n",
       "   'thumbnail': 'https://serpapi.com/searches/65c25dd22c084406a7f6d586/images/f4391c8e88f0abb1707b6308cf22d42525a9e8c6fafe1d9af0f4cb492e00e012.jpeg'},\n",
       "  {'title': 'Thịt kho trứng chả kiểu Bắc',\n",
       "   'link': 'https://vnexpress.net/thit-kho-trung-cha-kieu-bac-4674516.html',\n",
       "   'source': 'VnExpress',\n",
       "   'total_time': '40 min',\n",
       "   'thumbnail': 'https://serpapi.com/searches/65c25dd22c084406a7f6d586/images/f4391c8e88f0abb1707b6308cf22d425da0557971cc0a76a47371944c3778f16.jpeg'}],\n",
       " 'inline_images': [{'link': 'https://vnexpress.net/3-meo-an-banh-chung-giup-han-che-tang-can-4709210.html',\n",
       "   'source': 'https://vnexpress.net/3-meo-an-banh-chung-giup-han-che-tang-can-4709210.html',\n",
       "   'thumbnail': 'https://serpapi.com/searches/65c25dd22c084406a7f6d586/images/3da73d235d42b1b504df3e68bc556045a5f166ea8bbc6f13a8af65a69b07aff1.jpeg',\n",
       "   'original': 'https://i1-suckhoe.vnecdn.net/2024/02/06/w331518511999875482346052-1579-6176-7954-1707179534.jpg?w=1200&h=0&q=100&dpr=1&fit=crop&s=MLLKUz8vCpHaiGxPDVUrXg',\n",
       "   'title': '3 mẹo ăn bánh chưng giúp hạn chế tăng cân - VnExpress Sức khỏe',\n",
       "   'source_name': 'VnExpress'},\n",
       "  {'link': 'https://vnexpress.net/ba-mon-trong-mam-co-tet-nen-han-che-4708799.html',\n",
       "   'source': 'https://vnexpress.net/ba-mon-trong-mam-co-tet-nen-han-che-4708799.html',\n",
       "   'thumbnail': 'https://serpapi.com/searches/65c25dd22c084406a7f6d586/images/3da73d235d42b1b544d30d6a6fc3bce82a15b8fdbc62eba6b8568a9ca890c0b3.jpeg',\n",
       "   'original': 'https://vcdn1-suckhoe.vnecdn.net/2024/02/05/Anh1CoTetmienBacdadang16833301-2157-1940-1707121266.jpg?w=1200&h=0&q=100&dpr=1&fit=crop&s=5HDVaw2CgA3JKRGYepjDFQ',\n",
       "   'title': 'Ba món trong mâm cỗ Tết nên hạn chế - VnExpress Sức khỏe',\n",
       "   'source_name': 'VnExpress'},\n",
       "  {'link': 'https://vnexpress.net/3-meo-an-banh-chung-giup-han-che-tang-can-4709210.html',\n",
       "   'source': 'https://vnexpress.net/3-meo-an-banh-chung-giup-han-che-tang-can-4709210.html',\n",
       "   'thumbnail': 'https://serpapi.com/searches/65c25dd22c084406a7f6d586/images/3da73d235d42b1b5d54a83993d100d0d885849163861854d66d6a6d1f9b32bea.jpeg',\n",
       "   'original': 'https://i1-suckhoe.vnecdn.net/2019/02/02/images2621781-2banhchung-15491-3855-9215-1549106682.png?w=140&h=84&q=100&dpr=2&fit=crop&s=3KIdX19eyQSAnmFmdiGksQ',\n",
       "   'title': '3 mẹo ăn bánh chưng giúp hạn chế tăng cân - VnExpress Sức khỏe',\n",
       "   'source_name': 'VnExpress'}],\n",
       " 'organic_results': [{'position': 1,\n",
       "   'title': '3 mẹo ăn bánh chưng giúp hạn chế tăng cân',\n",
       "   'link': 'https://vnexpress.net/3-meo-an-banh-chung-giup-han-che-tang-can-4709210.html',\n",
       "   'redirect_link': 'https://www.google.comhttps://vnexpress.net/3-meo-an-banh-chung-giup-han-che-tang-can-4709210.html',\n",
       "   'displayed_link': 'https://vnexpress.net › Sức khỏe › Dinh dưỡng',\n",
       "   'favicon': 'https://serpapi.com/searches/65c25dd22c084406a7f6d586/images/ada63920e1a17e9623736d08c03800ea7851fef717b35258e35d098dba9fac3b.png',\n",
       "   'date': '8 hours ago',\n",
       "   'snippet': 'Trong khi đó một bát cơm trắng cung cấp khoảng 180-200 kcal. Với những người sợ béo, tăng đường huyết, khi ăn bánh chưng có thể bỏ nhân thịt mỡ ...',\n",
       "   'snippet_highlighted_words': ['tăng', 'ăn bánh chưng'],\n",
       "   'source': 'VnExpress'},\n",
       "  {'position': 2,\n",
       "   'title': 'Ba món trong mâm cỗ Tết nên hạn chế',\n",
       "   'link': 'https://vnexpress.net/ba-mon-trong-mam-co-tet-nen-han-che-4708799.html',\n",
       "   'redirect_link': 'https://www.google.comhttps://vnexpress.net/ba-mon-trong-mam-co-tet-nen-han-che-4708799.html',\n",
       "   'displayed_link': 'https://vnexpress.net › Sức khỏe › Tư vấn',\n",
       "   'favicon': 'https://serpapi.com/searches/65c25dd22c084406a7f6d586/images/ada63920e1a17e9623736d08c03800eaa30b9af570ab9f81f1f84ff8fce58243.png',\n",
       "   'date': '18 hours ago',\n",
       "   'snippet': 'Hạn chế ăn bánh chưng, nem rán, thịt đông, đồ uống có gas, rượu bia để phòng ngừa bệnh, nhất là người thừa cân, béo phì, tiểu đường, tăng ...',\n",
       "   'snippet_highlighted_words': ['Hạn chế ăn bánh chưng', 'cân', 'tăng'],\n",
       "   'source': 'VnExpress'},\n",
       "  {'position': 3,\n",
       "   'title': 'Ăn miếng bánh chưng, bớt một chén cơm',\n",
       "   'link': 'https://vnexpress.net/an-mieng-banh-chung-bot-mot-chen-com-4230604.html',\n",
       "   'redirect_link': 'https://www.google.comhttps://vnexpress.net/an-mieng-banh-chung-bot-mot-chen-com-4230604.html',\n",
       "   'displayed_link': 'https://vnexpress.net › Sức khỏe › Dinh dưỡng',\n",
       "   'favicon': 'https://serpapi.com/searches/65c25dd22c084406a7f6d586/images/ada63920e1a17e9623736d08c03800eafb4d106eee8e875f305a2fb66dc7540c.png',\n",
       "   'date': 'Feb 8, 2021',\n",
       "   'snippet': 'Bánh chưng cung cấp rất nhiều năng lượng. Một chiếc bánh chưng vuông cỡ vừa, chia 8 miếng, mỗi miếng trọng lượng khoảng 114 g, cung cấp 204 kcal ...',\n",
       "   'snippet_highlighted_words': ['Bánh chưng', 'bánh chưng'],\n",
       "   'source': 'VnExpress'},\n",
       "  {'position': 4,\n",
       "   'title': 'Mẹo ăn uống ngày Tết để không tăng cân',\n",
       "   'link': 'https://vnexpress.net/meo-an-uong-ngay-tet-de-khong-tang-can-3874696.html',\n",
       "   'redirect_link': 'https://www.google.comhttps://vnexpress.net/meo-an-uong-ngay-tet-de-khong-tang-can-3874696.html',\n",
       "   'displayed_link': 'https://vnexpress.net › Sức khỏe › Dinh dưỡng',\n",
       "   'favicon': 'https://serpapi.com/searches/65c25dd22c084406a7f6d586/images/ada63920e1a17e9623736d08c03800ea73ef3834077c55ff541108a909c49fe5.png',\n",
       "   'date': 'Jan 29, 2019',\n",
       "   'snippet': 'Kiểm soát các thức ăn giàu năng lượng, nhiều mỡ, nhiều đường như bánh chưng, bánh tét, thịt đông, giò... Tăng cường rau xanh, trái cây, uống nước ...',\n",
       "   'snippet_highlighted_words': ['ăn', 'bánh chưng', 'bánh', 'Tăng'],\n",
       "   'source': 'VnExpress'},\n",
       "  {'position': 5,\n",
       "   'title': 'Cách ăn bánh trung thu hạn chế tăng cân',\n",
       "   'link': 'https://vnexpress.net/cach-an-banh-trung-thu-han-che-tang-can-4657107.html',\n",
       "   'redirect_link': 'https://www.google.comhttps://vnexpress.net/cach-an-banh-trung-thu-han-che-tang-can-4657107.html',\n",
       "   'displayed_link': 'https://vnexpress.net › Sức khỏe › Tư vấn',\n",
       "   'favicon': 'https://serpapi.com/searches/65c25dd22c084406a7f6d586/images/ada63920e1a17e9623736d08c03800ea2b56634bdda04f52fb38fcef06ca51df.png',\n",
       "   'date': 'Sep 25, 2023',\n",
       "   'snippet': 'Trung bình một chiếc bánh trung thu 180 g cung cấp 500-700 calo, tùy theo loại bánh và thành phần. Một số loại bánh thập cẩm có thể chứa gần 1. ...',\n",
       "   'snippet_highlighted_words': ['bánh', 'bánh', 'bánh'],\n",
       "   'source': 'VnExpress'},\n",
       "  {'position': 6,\n",
       "   'title': 'Ăn bao nhiêu miếng bánh chưng thì không béo?',\n",
       "   'link': 'https://vnexpress.net/an-bao-nhieu-mieng-banh-chung-thi-khong-beo-4557021.html',\n",
       "   'redirect_link': 'https://www.google.comhttps://vnexpress.net/an-bao-nhieu-mieng-banh-chung-thi-khong-beo-4557021.html',\n",
       "   'displayed_link': 'https://vnexpress.net › Sức khỏe › Tư vấn',\n",
       "   'favicon': 'https://serpapi.com/searches/65c25dd22c084406a7f6d586/images/ada63920e1a17e9623736d08c03800eadde6de07db5da80f528c23e8f22781bd.png',\n",
       "   'date': 'Jan 8, 2023',\n",
       "   'snippet': 'Món ăn và thực phẩm ngày Tết nhiều tinh bột, đường, chất béo... có thể khiến mọi người tăng cân. Do đó, để duy trì cân nặng hiệu quả, bạn cần ...',\n",
       "   'snippet_highlighted_words': ['ăn', 'tăng cân'],\n",
       "   'source': 'VnExpress'},\n",
       "  {'position': 7,\n",
       "   'title': 'Sức Khỏe Gia Đình, cách Phòng Bệnh & chăm sóc',\n",
       "   'link': 'https://vnexpress.net/suc-khoe',\n",
       "   'redirect_link': 'https://www.google.comhttps://vnexpress.net/suc-khoe',\n",
       "   'displayed_link': 'https://vnexpress.net › suc-khoe',\n",
       "   'favicon': 'https://serpapi.com/searches/65c25dd22c084406a7f6d586/images/ada63920e1a17e9623736d08c03800eadec3241285b9c1ceb8e25b17b592c4ba.png',\n",
       "   'snippet': 'Hạn chế ăn bánh chưng, nem rán, thịt đông, đồ uống có gas, rượu bia để phòng ngừa bệnh, nhất là người thừa cân, béo phì, tiểu đường, tăng huyết áp, tim mạch. 1 ...',\n",
       "   'snippet_highlighted_words': ['Hạn chế ăn bánh chưng', 'cân', 'tăng'],\n",
       "   'source': 'VnExpress'},\n",
       "  {'position': 8,\n",
       "   'title': '5 bí quyết ăn uống của những người sống lâu nhất thế giới',\n",
       "   'link': 'https://vnexpress.net/5-bi-quyet-an-uong-cua-nhung-nguoi-song-lau-nhat-the-gioi-4701753.html',\n",
       "   'redirect_link': 'https://www.google.comhttps://vnexpress.net/5-bi-quyet-an-uong-cua-nhung-nguoi-song-lau-nhat-the-gioi-4701753.html',\n",
       "   'displayed_link': 'https://vnexpress.net › Sức khỏe › Dinh dưỡng',\n",
       "   'favicon': 'https://serpapi.com/searches/65c25dd22c084406a7f6d586/images/ada63920e1a17e9623736d08c03800ea548b531d12a4eca6bb15e4473cb4b703.png',\n",
       "   'date': 'Jan 18, 2024',\n",
       "   'snippet': '3 mẹo ăn bánh chưng giúp hạn chế tăng cân · Bỏ nhân thịt mỡ, ăn kèm dưa góp hoặc hành muối, ăn miếng ...',\n",
       "   'snippet_highlighted_words': ['3 mẹo ăn bánh chưng giúp hạn chế tăng cân',\n",
       "    'ăn',\n",
       "    'ăn'],\n",
       "   'source': 'VnExpress'}],\n",
       " 'pagination': {'current': 1,\n",
       "  'next': 'https://www.google.com/search?q=+3+m%E1%BA%B9o+%C4%83n+b%C3%A1nh+ch%C6%B0ng+gi%C3%BAp+h%E1%BA%A1n+ch%E1%BA%BF+t%C4%83ng+c%C3%A2n+-+VnExpress+S%E1%BB%A9c+kh%E1%BB%8Fe%0A&oq=+3+m%E1%BA%B9o+%C4%83n+b%C3%A1nh+ch%C6%B0ng+gi%C3%BAp+h%E1%BA%A1n+ch%E1%BA%BF+t%C4%83ng+c%C3%A2n+-+VnExpress+S%E1%BB%A9c+kh%E1%BB%8Fe%0A&hl=en&gl=us&start=10&sourceid=chrome&ie=UTF-8',\n",
       "  'other_pages': {'2': 'https://www.google.com/search?q=+3+m%E1%BA%B9o+%C4%83n+b%C3%A1nh+ch%C6%B0ng+gi%C3%BAp+h%E1%BA%A1n+ch%E1%BA%BF+t%C4%83ng+c%C3%A2n+-+VnExpress+S%E1%BB%A9c+kh%E1%BB%8Fe%0A&oq=+3+m%E1%BA%B9o+%C4%83n+b%C3%A1nh+ch%C6%B0ng+gi%C3%BAp+h%E1%BA%A1n+ch%E1%BA%BF+t%C4%83ng+c%C3%A2n+-+VnExpress+S%E1%BB%A9c+kh%E1%BB%8Fe%0A&hl=en&gl=us&start=10&sourceid=chrome&ie=UTF-8',\n",
       "   '3': 'https://www.google.com/search?q=+3+m%E1%BA%B9o+%C4%83n+b%C3%A1nh+ch%C6%B0ng+gi%C3%BAp+h%E1%BA%A1n+ch%E1%BA%BF+t%C4%83ng+c%C3%A2n+-+VnExpress+S%E1%BB%A9c+kh%E1%BB%8Fe%0A&oq=+3+m%E1%BA%B9o+%C4%83n+b%C3%A1nh+ch%C6%B0ng+gi%C3%BAp+h%E1%BA%A1n+ch%E1%BA%BF+t%C4%83ng+c%C3%A2n+-+VnExpress+S%E1%BB%A9c+kh%E1%BB%8Fe%0A&hl=en&gl=us&start=20&sourceid=chrome&ie=UTF-8',\n",
       "   '4': 'https://www.google.com/search?q=+3+m%E1%BA%B9o+%C4%83n+b%C3%A1nh+ch%C6%B0ng+gi%C3%BAp+h%E1%BA%A1n+ch%E1%BA%BF+t%C4%83ng+c%C3%A2n+-+VnExpress+S%E1%BB%A9c+kh%E1%BB%8Fe%0A&oq=+3+m%E1%BA%B9o+%C4%83n+b%C3%A1nh+ch%C6%B0ng+gi%C3%BAp+h%E1%BA%A1n+ch%E1%BA%BF+t%C4%83ng+c%C3%A2n+-+VnExpress+S%E1%BB%A9c+kh%E1%BB%8Fe%0A&hl=en&gl=us&start=30&sourceid=chrome&ie=UTF-8',\n",
       "   '5': 'https://www.google.com/search?q=+3+m%E1%BA%B9o+%C4%83n+b%C3%A1nh+ch%C6%B0ng+gi%C3%BAp+h%E1%BA%A1n+ch%E1%BA%BF+t%C4%83ng+c%C3%A2n+-+VnExpress+S%E1%BB%A9c+kh%E1%BB%8Fe%0A&oq=+3+m%E1%BA%B9o+%C4%83n+b%C3%A1nh+ch%C6%B0ng+gi%C3%BAp+h%E1%BA%A1n+ch%E1%BA%BF+t%C4%83ng+c%C3%A2n+-+VnExpress+S%E1%BB%A9c+kh%E1%BB%8Fe%0A&hl=en&gl=us&start=40&sourceid=chrome&ie=UTF-8'}},\n",
       " 'serpapi_pagination': {'current': 1,\n",
       "  'next_link': 'https://serpapi.com/search.json?device=desktop&engine=google&gl=us&google_domain=google.com&hl=en&location=Vietnam&q=+3+m%E1%BA%B9o+%C4%83n+b%C3%A1nh+ch%C6%B0ng+gi%C3%BAp+h%E1%BA%A1n+ch%E1%BA%BF+t%C4%83ng+c%C3%A2n+-+VnExpress+S%E1%BB%A9c+kh%E1%BB%8Fe%0A&start=10',\n",
       "  'next': 'https://serpapi.com/search.json?device=desktop&engine=google&gl=us&google_domain=google.com&hl=en&location=Vietnam&q=+3+m%E1%BA%B9o+%C4%83n+b%C3%A1nh+ch%C6%B0ng+gi%C3%BAp+h%E1%BA%A1n+ch%E1%BA%BF+t%C4%83ng+c%C3%A2n+-+VnExpress+S%E1%BB%A9c+kh%E1%BB%8Fe%0A&start=10',\n",
       "  'other_pages': {'2': 'https://serpapi.com/search.json?device=desktop&engine=google&gl=us&google_domain=google.com&hl=en&location=Vietnam&q=+3+m%E1%BA%B9o+%C4%83n+b%C3%A1nh+ch%C6%B0ng+gi%C3%BAp+h%E1%BA%A1n+ch%E1%BA%BF+t%C4%83ng+c%C3%A2n+-+VnExpress+S%E1%BB%A9c+kh%E1%BB%8Fe%0A&start=10',\n",
       "   '3': 'https://serpapi.com/search.json?device=desktop&engine=google&gl=us&google_domain=google.com&hl=en&location=Vietnam&q=+3+m%E1%BA%B9o+%C4%83n+b%C3%A1nh+ch%C6%B0ng+gi%C3%BAp+h%E1%BA%A1n+ch%E1%BA%BF+t%C4%83ng+c%C3%A2n+-+VnExpress+S%E1%BB%A9c+kh%E1%BB%8Fe%0A&start=20',\n",
       "   '4': 'https://serpapi.com/search.json?device=desktop&engine=google&gl=us&google_domain=google.com&hl=en&location=Vietnam&q=+3+m%E1%BA%B9o+%C4%83n+b%C3%A1nh+ch%C6%B0ng+gi%C3%BAp+h%E1%BA%A1n+ch%E1%BA%BF+t%C4%83ng+c%C3%A2n+-+VnExpress+S%E1%BB%A9c+kh%E1%BB%8Fe%0A&start=30',\n",
       "   '5': 'https://serpapi.com/search.json?device=desktop&engine=google&gl=us&google_domain=google.com&hl=en&location=Vietnam&q=+3+m%E1%BA%B9o+%C4%83n+b%C3%A1nh+ch%C6%B0ng+gi%C3%BAp+h%E1%BA%A1n+ch%E1%BA%BF+t%C4%83ng+c%C3%A2n+-+VnExpress+S%E1%BB%A9c+kh%E1%BB%8Fe%0A&start=40'}}}"
      ]
     },
     "execution_count": 9,
     "metadata": {},
     "output_type": "execute_result"
    }
   ],
   "source": [
    "results"
   ]
  },
  {
   "cell_type": "code",
   "execution_count": null,
   "metadata": {},
   "outputs": [],
   "source": []
  }
 ],
 "metadata": {
  "kernelspec": {
   "display_name": "base",
   "language": "python",
   "name": "python3"
  },
  "language_info": {
   "codemirror_mode": {
    "name": "ipython",
    "version": 3
   },
   "file_extension": ".py",
   "mimetype": "text/x-python",
   "name": "python",
   "nbconvert_exporter": "python",
   "pygments_lexer": "ipython3",
   "version": "3.11.5"
  }
 },
 "nbformat": 4,
 "nbformat_minor": 2
}
